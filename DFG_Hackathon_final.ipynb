{
  "nbformat": 4,
  "nbformat_minor": 0,
  "metadata": {
    "colab": {
      "name": "DFG_Hackathon_final.ipynb",
      "provenance": [],
      "collapsed_sections": []
    },
    "kernelspec": {
      "name": "python3",
      "display_name": "Python 3"
    },
    "language_info": {
      "name": "python"
    }
  },
  "cells": [
    {
      "cell_type": "code",
      "metadata": {
        "id": "JDdEESHOxZdE"
      },
      "source": [
        "import pandas as pd\n",
        "import matplotlib.pyplot as plt\n",
        "%matplotlib inline"
      ],
      "execution_count": 2,
      "outputs": []
    },
    {
      "cell_type": "code",
      "metadata": {
        "colab": {
          "base_uri": "https://localhost:8080/"
        },
        "id": "E4qr76iQxq_k",
        "outputId": "fc996edb-af6b-4268-bb6e-b813257f5bf2"
      },
      "source": [
        "Goal4 = pd.read_csv('Goal4.csv')"
      ],
      "execution_count": 3,
      "outputs": [
        {
          "output_type": "stream",
          "text": [
            "/usr/local/lib/python3.7/dist-packages/IPython/core/interactiveshell.py:2718: DtypeWarning: Columns (1,9,16,17,19,21,23,24) have mixed types.Specify dtype option on import or set low_memory=False.\n",
            "  interactivity=interactivity, compiler=compiler, result=result)\n"
          ],
          "name": "stderr"
        }
      ]
    },
    {
      "cell_type": "code",
      "metadata": {
        "colab": {
          "base_uri": "https://localhost:8080/",
          "height": 788
        },
        "id": "gH581Tobxrcr",
        "outputId": "a5f0fbcf-c400-4f89-cd98-0c398c96cff4"
      },
      "source": [
        "# converting the file to DF and dropping the columns we don't need \n",
        "df = pd.DataFrame(Goal4)\n",
        "df = df[[\"Goal\",\"Target\",\"Indicator\",\"SeriesDescription\",\"GeoAreaName\",\"TimePeriod\",\"Value\",\"Sex\",\"Education level\",\"Type of skill\"]]\n",
        "# sampling the data \n",
        "df[df['Indicator'] == '4.1.1']"
      ],
      "execution_count": 4,
      "outputs": [
        {
          "output_type": "execute_result",
          "data": {
            "text/html": [
              "<div>\n",
              "<style scoped>\n",
              "    .dataframe tbody tr th:only-of-type {\n",
              "        vertical-align: middle;\n",
              "    }\n",
              "\n",
              "    .dataframe tbody tr th {\n",
              "        vertical-align: top;\n",
              "    }\n",
              "\n",
              "    .dataframe thead th {\n",
              "        text-align: right;\n",
              "    }\n",
              "</style>\n",
              "<table border=\"1\" class=\"dataframe\">\n",
              "  <thead>\n",
              "    <tr style=\"text-align: right;\">\n",
              "      <th></th>\n",
              "      <th>Goal</th>\n",
              "      <th>Target</th>\n",
              "      <th>Indicator</th>\n",
              "      <th>SeriesDescription</th>\n",
              "      <th>GeoAreaName</th>\n",
              "      <th>TimePeriod</th>\n",
              "      <th>Value</th>\n",
              "      <th>Sex</th>\n",
              "      <th>Education level</th>\n",
              "      <th>Type of skill</th>\n",
              "    </tr>\n",
              "  </thead>\n",
              "  <tbody>\n",
              "    <tr>\n",
              "      <th>0</th>\n",
              "      <td>4</td>\n",
              "      <td>4.1</td>\n",
              "      <td>4.1.1</td>\n",
              "      <td>Proportion of children and young people achiev...</td>\n",
              "      <td>Afghanistan</td>\n",
              "      <td>2013</td>\n",
              "      <td>11.000000</td>\n",
              "      <td>BOTHSEX</td>\n",
              "      <td>PRIMAR</td>\n",
              "      <td>SKILL_MATH</td>\n",
              "    </tr>\n",
              "    <tr>\n",
              "      <th>1</th>\n",
              "      <td>4</td>\n",
              "      <td>4.1</td>\n",
              "      <td>4.1.1</td>\n",
              "      <td>Proportion of children and young people achiev...</td>\n",
              "      <td>Afghanistan</td>\n",
              "      <td>2013</td>\n",
              "      <td>13.000000</td>\n",
              "      <td>BOTHSEX</td>\n",
              "      <td>PRIMAR</td>\n",
              "      <td>SKILL_READ</td>\n",
              "    </tr>\n",
              "    <tr>\n",
              "      <th>2</th>\n",
              "      <td>4</td>\n",
              "      <td>4.1</td>\n",
              "      <td>4.1.1</td>\n",
              "      <td>Proportion of children and young people achiev...</td>\n",
              "      <td>Afghanistan</td>\n",
              "      <td>2016</td>\n",
              "      <td>21.500000</td>\n",
              "      <td>MALE</td>\n",
              "      <td>GRAD23</td>\n",
              "      <td>SKILL_READ</td>\n",
              "    </tr>\n",
              "    <tr>\n",
              "      <th>3</th>\n",
              "      <td>4</td>\n",
              "      <td>4.1</td>\n",
              "      <td>4.1.1</td>\n",
              "      <td>Proportion of children and young people achiev...</td>\n",
              "      <td>Afghanistan</td>\n",
              "      <td>2016</td>\n",
              "      <td>22.500000</td>\n",
              "      <td>FEMALE</td>\n",
              "      <td>GRAD23</td>\n",
              "      <td>SKILL_READ</td>\n",
              "    </tr>\n",
              "    <tr>\n",
              "      <th>4</th>\n",
              "      <td>4</td>\n",
              "      <td>4.1</td>\n",
              "      <td>4.1.1</td>\n",
              "      <td>Proportion of children and young people achiev...</td>\n",
              "      <td>Afghanistan</td>\n",
              "      <td>2016</td>\n",
              "      <td>22.000000</td>\n",
              "      <td>BOTHSEX</td>\n",
              "      <td>GRAD23</td>\n",
              "      <td>SKILL_READ</td>\n",
              "    </tr>\n",
              "    <tr>\n",
              "      <th>...</th>\n",
              "      <td>...</td>\n",
              "      <td>...</td>\n",
              "      <td>...</td>\n",
              "      <td>...</td>\n",
              "      <td>...</td>\n",
              "      <td>...</td>\n",
              "      <td>...</td>\n",
              "      <td>...</td>\n",
              "      <td>...</td>\n",
              "      <td>...</td>\n",
              "    </tr>\n",
              "    <tr>\n",
              "      <th>3984</th>\n",
              "      <td>4</td>\n",
              "      <td>4.1</td>\n",
              "      <td>4.1.1</td>\n",
              "      <td>Proportion of children and young people achiev...</td>\n",
              "      <td>Zambia</td>\n",
              "      <td>2015</td>\n",
              "      <td>5.043495</td>\n",
              "      <td>BOTHSEX</td>\n",
              "      <td>LOWSEC</td>\n",
              "      <td>SKILL_READ</td>\n",
              "    </tr>\n",
              "    <tr>\n",
              "      <th>3985</th>\n",
              "      <td>4</td>\n",
              "      <td>4.1</td>\n",
              "      <td>4.1.1</td>\n",
              "      <td>Proportion of children and young people achiev...</td>\n",
              "      <td>Zambia</td>\n",
              "      <td>2015</td>\n",
              "      <td>1.942508</td>\n",
              "      <td>MALE</td>\n",
              "      <td>LOWSEC</td>\n",
              "      <td>SKILL_MATH</td>\n",
              "    </tr>\n",
              "    <tr>\n",
              "      <th>3986</th>\n",
              "      <td>4</td>\n",
              "      <td>4.1</td>\n",
              "      <td>4.1.1</td>\n",
              "      <td>Proportion of children and young people achiev...</td>\n",
              "      <td>Zambia</td>\n",
              "      <td>2015</td>\n",
              "      <td>2.634564</td>\n",
              "      <td>FEMALE</td>\n",
              "      <td>LOWSEC</td>\n",
              "      <td>SKILL_MATH</td>\n",
              "    </tr>\n",
              "    <tr>\n",
              "      <th>3987</th>\n",
              "      <td>4</td>\n",
              "      <td>4.1</td>\n",
              "      <td>4.1.1</td>\n",
              "      <td>Proportion of children and young people achiev...</td>\n",
              "      <td>Zambia</td>\n",
              "      <td>2015</td>\n",
              "      <td>2.298457</td>\n",
              "      <td>BOTHSEX</td>\n",
              "      <td>LOWSEC</td>\n",
              "      <td>SKILL_MATH</td>\n",
              "    </tr>\n",
              "    <tr>\n",
              "      <th>3988</th>\n",
              "      <td>4</td>\n",
              "      <td>4.1</td>\n",
              "      <td>4.1.1</td>\n",
              "      <td>Proportion of children and young people achiev...</td>\n",
              "      <td>Zambia</td>\n",
              "      <td>2015</td>\n",
              "      <td>3.521387</td>\n",
              "      <td>MALE</td>\n",
              "      <td>LOWSEC</td>\n",
              "      <td>SKILL_READ</td>\n",
              "    </tr>\n",
              "  </tbody>\n",
              "</table>\n",
              "<p>3989 rows × 10 columns</p>\n",
              "</div>"
            ],
            "text/plain": [
              "      Goal Target Indicator  ...      Sex Education level  Type of skill\n",
              "0        4    4.1     4.1.1  ...  BOTHSEX          PRIMAR     SKILL_MATH\n",
              "1        4    4.1     4.1.1  ...  BOTHSEX          PRIMAR     SKILL_READ\n",
              "2        4    4.1     4.1.1  ...     MALE          GRAD23     SKILL_READ\n",
              "3        4    4.1     4.1.1  ...   FEMALE          GRAD23     SKILL_READ\n",
              "4        4    4.1     4.1.1  ...  BOTHSEX          GRAD23     SKILL_READ\n",
              "...    ...    ...       ...  ...      ...             ...            ...\n",
              "3984     4    4.1     4.1.1  ...  BOTHSEX          LOWSEC     SKILL_READ\n",
              "3985     4    4.1     4.1.1  ...     MALE          LOWSEC     SKILL_MATH\n",
              "3986     4    4.1     4.1.1  ...   FEMALE          LOWSEC     SKILL_MATH\n",
              "3987     4    4.1     4.1.1  ...  BOTHSEX          LOWSEC     SKILL_MATH\n",
              "3988     4    4.1     4.1.1  ...     MALE          LOWSEC     SKILL_READ\n",
              "\n",
              "[3989 rows x 10 columns]"
            ]
          },
          "metadata": {
            "tags": []
          },
          "execution_count": 4
        }
      ]
    },
    {
      "cell_type": "code",
      "metadata": {
        "colab": {
          "base_uri": "https://localhost:8080/"
        },
        "id": "HrSpKrQ4xuB1",
        "outputId": "0c1a58b3-9618-4f3b-ad9d-b2d19e4cb74b"
      },
      "source": [
        "# checking the descriptions to see the type of data\n",
        "df.value_counts(df['SeriesDescription'])"
      ],
      "execution_count": 5,
      "outputs": [
        {
          "output_type": "execute_result",
          "data": {
            "text/plain": [
              "SeriesDescription\n",
              "Completion rate, by sex, location, wealth quintile and education level (%)                                                                                                                                                                       76351\n",
              "Adjusted gender parity index for completion rate, by sex, location, wealth quintile and education level                                                                                                                                          24268\n",
              "Adjusted location parity index for completion rate, by sex, location, wealth quintile and education level                                                                                                                                        23524\n",
              "Proportion of teachers who have received at least the minimum organized teacher training (e.g. pedagogical training) pre-service or in-service required for teaching at the relevant level in a given country, by sex and education level (%)    13535\n",
              "Adjusted wealth parity index for completion rate, by sex, location, wealth quintile and education level                                                                                                                                          12232\n",
              "Proportion of youth and adults with information and communications technology (ICT) skills, by sex and type of skill (%)                                                                                                                          5929\n",
              "Participation rate in organized learning (one year before the official primary entry age), by sex (%)                                                                                                                                             5883\n",
              "Gender parity index of trained teachers, by education level (ratio)                                                                                                                                                                               4046\n",
              "Proportion of children and young people achieving a minimum proficiency level in reading and mathematics (%)                                                                                                                                      3989\n",
              "Total official flows for scholarships, by recipient countries (millions of constant 2018 United States dollars)                                                                                                                                   2276\n",
              "Schools with access to electricity, by education level (%)                                                                                                                                                                                        2163\n",
              "Schools with access to basic drinking water, by education level (%)                                                                                                                                                                               1742\n",
              "Schools with basic handwashing facilities, by education level (%)                                                                                                                                                                                 1668\n",
              "Gender parity index for participation rate in organized learning (one year before the official primary entry age), (ratio)                                                                                                                        1663\n",
              "Schools with access to access to single-sex basic sanitation, by education level (%)                                                                                                                                                              1611\n",
              "Schools with access to computers for pedagogical purposes, by education level (%)                                                                                                                                                                 1557\n",
              "Schools with access to the internet for pedagogical purposes, by education level (%)                                                                                                                                                              1470\n",
              "Gender parity index for achievement (ratio)                                                                                                                                                                                                       1370\n",
              "Low to high socio-economic parity status index for achievement (ratio)                                                                                                                                                                            1193\n",
              "Language test parity index for achievement (ratio)                                                                                                                                                                                                1035\n",
              "Participation rate in formal and non-formal education and training, by sex (%)                                                                                                                                                                    1009\n",
              "Rural to urban parity index for achievement (ratio)                                                                                                                                                                                                930\n",
              "Native parity index for achievement (ratio)                                                                                                                                                                                                        864\n",
              "Proportion of schools with access to adapted infrastructure and materials for students with disabilities, by education level (%)                                                                                                                   335\n",
              "Gender parity index for participation rate in formal and non-formal education and training (ratio)                                                                                                                                                 321\n",
              "Gender parity index for youth/adults with information and communications technology (ICT) skills, by type of skill (ratio)                                                                                                                         261\n",
              "Proportion of children aged 36−59 months who are developmentally on track in at least three of the following domains: literacy-numeracy, physical development, social-emotional development, and learning (% of children aged 36-59 months)        244\n",
              "Proportion of population achieving at least a fixed level of proficiency in functional skills, by sex, age and type of skill (%)                                                                                                                   237\n",
              "Immigration status parity index for achieving at least a fixed level of proficiency in functional skills, by numeracy/literacy skills (ratio)                                                                                                       56\n",
              "dtype: int64"
            ]
          },
          "metadata": {
            "tags": []
          },
          "execution_count": 5
        }
      ]
    },
    {
      "cell_type": "code",
      "metadata": {
        "id": "AMT_nFDIyA_s"
      },
      "source": [
        "# decided to chek how the teacher education is moving across the world\n",
        "ind_teach = df[df['SeriesDescription']=='Proportion of teachers who have received at least the minimum organized teacher training (e.g. pedagogical training) pre-service or in-service required for teaching at the relevant level in a given country, by sex and education level (%)']"
      ],
      "execution_count": 6,
      "outputs": []
    },
    {
      "cell_type": "code",
      "metadata": {
        "colab": {
          "base_uri": "https://localhost:8080/"
        },
        "id": "Coo0wy3hyT8b",
        "outputId": "49251950-b523-42f5-a988-48ab04f8651c"
      },
      "source": [
        "# world means calcumation\n",
        "y_world = ind_teach[(ind_teach['GeoAreaName']=='World') & (ind_teach['Sex']=='MALE')]['Value']\n",
        "x_world = ind_teach[(ind_teach['GeoAreaName']=='World') & (ind_teach['Sex']=='MALE')]['TimePeriod']\n",
        "y_world\n"
      ],
      "execution_count": 7,
      "outputs": [
        {
          "output_type": "execute_result",
          "data": {
            "text/plain": [
              "178227    82.56397\n",
              "178232    82.68186\n",
              "178234    81.41147\n",
              "178237    81.62077\n",
              "178240    81.68934\n",
              "178243    82.15749\n",
              "178247    81.13111\n",
              "Name: Value, dtype: float64"
            ]
          },
          "metadata": {
            "tags": []
          },
          "execution_count": 7
        }
      ]
    },
    {
      "cell_type": "code",
      "metadata": {
        "colab": {
          "base_uri": "https://localhost:8080/",
          "height": 1000
        },
        "id": "oISvMu2QyoXz",
        "outputId": "d690de11-6856-4692-cf5b-d8df3495ed10"
      },
      "source": [
        "# calculating yearwise means and converting this to a DF\n",
        "new_df = ind_teach.groupby([\"TimePeriod\", 'Sex']).mean()['Value']\n",
        "mean_yearwise = new_df.to_frame(name='mean_values').reset_index()\n",
        "mean_yearwise\n"
      ],
      "execution_count": 8,
      "outputs": [
        {
          "output_type": "execute_result",
          "data": {
            "text/html": [
              "<div>\n",
              "<style scoped>\n",
              "    .dataframe tbody tr th:only-of-type {\n",
              "        vertical-align: middle;\n",
              "    }\n",
              "\n",
              "    .dataframe tbody tr th {\n",
              "        vertical-align: top;\n",
              "    }\n",
              "\n",
              "    .dataframe thead th {\n",
              "        text-align: right;\n",
              "    }\n",
              "</style>\n",
              "<table border=\"1\" class=\"dataframe\">\n",
              "  <thead>\n",
              "    <tr style=\"text-align: right;\">\n",
              "      <th></th>\n",
              "      <th>TimePeriod</th>\n",
              "      <th>Sex</th>\n",
              "      <th>mean_values</th>\n",
              "    </tr>\n",
              "  </thead>\n",
              "  <tbody>\n",
              "    <tr>\n",
              "      <th>0</th>\n",
              "      <td>2000</td>\n",
              "      <td>BOTHSEX</td>\n",
              "      <td>73.490422</td>\n",
              "    </tr>\n",
              "    <tr>\n",
              "      <th>1</th>\n",
              "      <td>2000</td>\n",
              "      <td>FEMALE</td>\n",
              "      <td>74.852859</td>\n",
              "    </tr>\n",
              "    <tr>\n",
              "      <th>2</th>\n",
              "      <td>2000</td>\n",
              "      <td>MALE</td>\n",
              "      <td>63.790358</td>\n",
              "    </tr>\n",
              "    <tr>\n",
              "      <th>3</th>\n",
              "      <td>2001</td>\n",
              "      <td>BOTHSEX</td>\n",
              "      <td>76.419522</td>\n",
              "    </tr>\n",
              "    <tr>\n",
              "      <th>4</th>\n",
              "      <td>2001</td>\n",
              "      <td>FEMALE</td>\n",
              "      <td>76.953774</td>\n",
              "    </tr>\n",
              "    <tr>\n",
              "      <th>5</th>\n",
              "      <td>2001</td>\n",
              "      <td>MALE</td>\n",
              "      <td>66.670287</td>\n",
              "    </tr>\n",
              "    <tr>\n",
              "      <th>6</th>\n",
              "      <td>2002</td>\n",
              "      <td>BOTHSEX</td>\n",
              "      <td>74.842706</td>\n",
              "    </tr>\n",
              "    <tr>\n",
              "      <th>7</th>\n",
              "      <td>2002</td>\n",
              "      <td>FEMALE</td>\n",
              "      <td>75.192221</td>\n",
              "    </tr>\n",
              "    <tr>\n",
              "      <th>8</th>\n",
              "      <td>2002</td>\n",
              "      <td>MALE</td>\n",
              "      <td>63.993896</td>\n",
              "    </tr>\n",
              "    <tr>\n",
              "      <th>9</th>\n",
              "      <td>2003</td>\n",
              "      <td>BOTHSEX</td>\n",
              "      <td>70.956726</td>\n",
              "    </tr>\n",
              "    <tr>\n",
              "      <th>10</th>\n",
              "      <td>2003</td>\n",
              "      <td>FEMALE</td>\n",
              "      <td>70.579723</td>\n",
              "    </tr>\n",
              "    <tr>\n",
              "      <th>11</th>\n",
              "      <td>2003</td>\n",
              "      <td>MALE</td>\n",
              "      <td>62.354794</td>\n",
              "    </tr>\n",
              "    <tr>\n",
              "      <th>12</th>\n",
              "      <td>2004</td>\n",
              "      <td>BOTHSEX</td>\n",
              "      <td>74.617360</td>\n",
              "    </tr>\n",
              "    <tr>\n",
              "      <th>13</th>\n",
              "      <td>2004</td>\n",
              "      <td>FEMALE</td>\n",
              "      <td>75.013509</td>\n",
              "    </tr>\n",
              "    <tr>\n",
              "      <th>14</th>\n",
              "      <td>2004</td>\n",
              "      <td>MALE</td>\n",
              "      <td>63.797408</td>\n",
              "    </tr>\n",
              "    <tr>\n",
              "      <th>15</th>\n",
              "      <td>2005</td>\n",
              "      <td>BOTHSEX</td>\n",
              "      <td>75.875445</td>\n",
              "    </tr>\n",
              "    <tr>\n",
              "      <th>16</th>\n",
              "      <td>2005</td>\n",
              "      <td>FEMALE</td>\n",
              "      <td>76.925684</td>\n",
              "    </tr>\n",
              "    <tr>\n",
              "      <th>17</th>\n",
              "      <td>2005</td>\n",
              "      <td>MALE</td>\n",
              "      <td>66.594116</td>\n",
              "    </tr>\n",
              "    <tr>\n",
              "      <th>18</th>\n",
              "      <td>2006</td>\n",
              "      <td>BOTHSEX</td>\n",
              "      <td>76.639767</td>\n",
              "    </tr>\n",
              "    <tr>\n",
              "      <th>19</th>\n",
              "      <td>2006</td>\n",
              "      <td>FEMALE</td>\n",
              "      <td>76.878304</td>\n",
              "    </tr>\n",
              "    <tr>\n",
              "      <th>20</th>\n",
              "      <td>2006</td>\n",
              "      <td>MALE</td>\n",
              "      <td>67.727524</td>\n",
              "    </tr>\n",
              "    <tr>\n",
              "      <th>21</th>\n",
              "      <td>2007</td>\n",
              "      <td>BOTHSEX</td>\n",
              "      <td>77.941757</td>\n",
              "    </tr>\n",
              "    <tr>\n",
              "      <th>22</th>\n",
              "      <td>2007</td>\n",
              "      <td>FEMALE</td>\n",
              "      <td>78.328096</td>\n",
              "    </tr>\n",
              "    <tr>\n",
              "      <th>23</th>\n",
              "      <td>2007</td>\n",
              "      <td>MALE</td>\n",
              "      <td>70.749583</td>\n",
              "    </tr>\n",
              "    <tr>\n",
              "      <th>24</th>\n",
              "      <td>2008</td>\n",
              "      <td>BOTHSEX</td>\n",
              "      <td>75.959540</td>\n",
              "    </tr>\n",
              "    <tr>\n",
              "      <th>25</th>\n",
              "      <td>2008</td>\n",
              "      <td>FEMALE</td>\n",
              "      <td>76.262052</td>\n",
              "    </tr>\n",
              "    <tr>\n",
              "      <th>26</th>\n",
              "      <td>2008</td>\n",
              "      <td>MALE</td>\n",
              "      <td>69.190338</td>\n",
              "    </tr>\n",
              "    <tr>\n",
              "      <th>27</th>\n",
              "      <td>2009</td>\n",
              "      <td>BOTHSEX</td>\n",
              "      <td>76.578307</td>\n",
              "    </tr>\n",
              "    <tr>\n",
              "      <th>28</th>\n",
              "      <td>2009</td>\n",
              "      <td>FEMALE</td>\n",
              "      <td>76.332765</td>\n",
              "    </tr>\n",
              "    <tr>\n",
              "      <th>29</th>\n",
              "      <td>2009</td>\n",
              "      <td>MALE</td>\n",
              "      <td>68.359767</td>\n",
              "    </tr>\n",
              "    <tr>\n",
              "      <th>30</th>\n",
              "      <td>2010</td>\n",
              "      <td>BOTHSEX</td>\n",
              "      <td>72.930979</td>\n",
              "    </tr>\n",
              "    <tr>\n",
              "      <th>31</th>\n",
              "      <td>2010</td>\n",
              "      <td>FEMALE</td>\n",
              "      <td>72.210189</td>\n",
              "    </tr>\n",
              "    <tr>\n",
              "      <th>32</th>\n",
              "      <td>2010</td>\n",
              "      <td>MALE</td>\n",
              "      <td>65.113885</td>\n",
              "    </tr>\n",
              "    <tr>\n",
              "      <th>33</th>\n",
              "      <td>2011</td>\n",
              "      <td>BOTHSEX</td>\n",
              "      <td>75.920942</td>\n",
              "    </tr>\n",
              "    <tr>\n",
              "      <th>34</th>\n",
              "      <td>2011</td>\n",
              "      <td>FEMALE</td>\n",
              "      <td>76.433305</td>\n",
              "    </tr>\n",
              "    <tr>\n",
              "      <th>35</th>\n",
              "      <td>2011</td>\n",
              "      <td>MALE</td>\n",
              "      <td>68.786507</td>\n",
              "    </tr>\n",
              "    <tr>\n",
              "      <th>36</th>\n",
              "      <td>2012</td>\n",
              "      <td>BOTHSEX</td>\n",
              "      <td>78.112266</td>\n",
              "    </tr>\n",
              "    <tr>\n",
              "      <th>37</th>\n",
              "      <td>2012</td>\n",
              "      <td>FEMALE</td>\n",
              "      <td>79.674836</td>\n",
              "    </tr>\n",
              "    <tr>\n",
              "      <th>38</th>\n",
              "      <td>2012</td>\n",
              "      <td>MALE</td>\n",
              "      <td>71.805994</td>\n",
              "    </tr>\n",
              "    <tr>\n",
              "      <th>39</th>\n",
              "      <td>2013</td>\n",
              "      <td>BOTHSEX</td>\n",
              "      <td>76.757507</td>\n",
              "    </tr>\n",
              "    <tr>\n",
              "      <th>40</th>\n",
              "      <td>2013</td>\n",
              "      <td>FEMALE</td>\n",
              "      <td>77.680565</td>\n",
              "    </tr>\n",
              "    <tr>\n",
              "      <th>41</th>\n",
              "      <td>2013</td>\n",
              "      <td>MALE</td>\n",
              "      <td>70.778366</td>\n",
              "    </tr>\n",
              "    <tr>\n",
              "      <th>42</th>\n",
              "      <td>2014</td>\n",
              "      <td>BOTHSEX</td>\n",
              "      <td>79.772535</td>\n",
              "    </tr>\n",
              "    <tr>\n",
              "      <th>43</th>\n",
              "      <td>2014</td>\n",
              "      <td>FEMALE</td>\n",
              "      <td>79.829120</td>\n",
              "    </tr>\n",
              "    <tr>\n",
              "      <th>44</th>\n",
              "      <td>2014</td>\n",
              "      <td>MALE</td>\n",
              "      <td>72.804898</td>\n",
              "    </tr>\n",
              "    <tr>\n",
              "      <th>45</th>\n",
              "      <td>2015</td>\n",
              "      <td>BOTHSEX</td>\n",
              "      <td>79.192900</td>\n",
              "    </tr>\n",
              "    <tr>\n",
              "      <th>46</th>\n",
              "      <td>2015</td>\n",
              "      <td>FEMALE</td>\n",
              "      <td>79.624001</td>\n",
              "    </tr>\n",
              "    <tr>\n",
              "      <th>47</th>\n",
              "      <td>2015</td>\n",
              "      <td>MALE</td>\n",
              "      <td>73.745662</td>\n",
              "    </tr>\n",
              "    <tr>\n",
              "      <th>48</th>\n",
              "      <td>2016</td>\n",
              "      <td>BOTHSEX</td>\n",
              "      <td>81.683417</td>\n",
              "    </tr>\n",
              "    <tr>\n",
              "      <th>49</th>\n",
              "      <td>2016</td>\n",
              "      <td>FEMALE</td>\n",
              "      <td>82.025939</td>\n",
              "    </tr>\n",
              "    <tr>\n",
              "      <th>50</th>\n",
              "      <td>2016</td>\n",
              "      <td>MALE</td>\n",
              "      <td>75.995505</td>\n",
              "    </tr>\n",
              "    <tr>\n",
              "      <th>51</th>\n",
              "      <td>2017</td>\n",
              "      <td>BOTHSEX</td>\n",
              "      <td>83.154894</td>\n",
              "    </tr>\n",
              "    <tr>\n",
              "      <th>52</th>\n",
              "      <td>2017</td>\n",
              "      <td>FEMALE</td>\n",
              "      <td>83.922404</td>\n",
              "    </tr>\n",
              "    <tr>\n",
              "      <th>53</th>\n",
              "      <td>2017</td>\n",
              "      <td>MALE</td>\n",
              "      <td>79.838283</td>\n",
              "    </tr>\n",
              "    <tr>\n",
              "      <th>54</th>\n",
              "      <td>2018</td>\n",
              "      <td>BOTHSEX</td>\n",
              "      <td>83.014626</td>\n",
              "    </tr>\n",
              "    <tr>\n",
              "      <th>55</th>\n",
              "      <td>2018</td>\n",
              "      <td>FEMALE</td>\n",
              "      <td>83.648925</td>\n",
              "    </tr>\n",
              "    <tr>\n",
              "      <th>56</th>\n",
              "      <td>2018</td>\n",
              "      <td>MALE</td>\n",
              "      <td>78.761646</td>\n",
              "    </tr>\n",
              "    <tr>\n",
              "      <th>57</th>\n",
              "      <td>2019</td>\n",
              "      <td>BOTHSEX</td>\n",
              "      <td>58.002120</td>\n",
              "    </tr>\n",
              "    <tr>\n",
              "      <th>58</th>\n",
              "      <td>2019</td>\n",
              "      <td>FEMALE</td>\n",
              "      <td>57.387976</td>\n",
              "    </tr>\n",
              "    <tr>\n",
              "      <th>59</th>\n",
              "      <td>2019</td>\n",
              "      <td>MALE</td>\n",
              "      <td>56.974659</td>\n",
              "    </tr>\n",
              "  </tbody>\n",
              "</table>\n",
              "</div>"
            ],
            "text/plain": [
              "    TimePeriod      Sex  mean_values\n",
              "0         2000  BOTHSEX    73.490422\n",
              "1         2000   FEMALE    74.852859\n",
              "2         2000     MALE    63.790358\n",
              "3         2001  BOTHSEX    76.419522\n",
              "4         2001   FEMALE    76.953774\n",
              "5         2001     MALE    66.670287\n",
              "6         2002  BOTHSEX    74.842706\n",
              "7         2002   FEMALE    75.192221\n",
              "8         2002     MALE    63.993896\n",
              "9         2003  BOTHSEX    70.956726\n",
              "10        2003   FEMALE    70.579723\n",
              "11        2003     MALE    62.354794\n",
              "12        2004  BOTHSEX    74.617360\n",
              "13        2004   FEMALE    75.013509\n",
              "14        2004     MALE    63.797408\n",
              "15        2005  BOTHSEX    75.875445\n",
              "16        2005   FEMALE    76.925684\n",
              "17        2005     MALE    66.594116\n",
              "18        2006  BOTHSEX    76.639767\n",
              "19        2006   FEMALE    76.878304\n",
              "20        2006     MALE    67.727524\n",
              "21        2007  BOTHSEX    77.941757\n",
              "22        2007   FEMALE    78.328096\n",
              "23        2007     MALE    70.749583\n",
              "24        2008  BOTHSEX    75.959540\n",
              "25        2008   FEMALE    76.262052\n",
              "26        2008     MALE    69.190338\n",
              "27        2009  BOTHSEX    76.578307\n",
              "28        2009   FEMALE    76.332765\n",
              "29        2009     MALE    68.359767\n",
              "30        2010  BOTHSEX    72.930979\n",
              "31        2010   FEMALE    72.210189\n",
              "32        2010     MALE    65.113885\n",
              "33        2011  BOTHSEX    75.920942\n",
              "34        2011   FEMALE    76.433305\n",
              "35        2011     MALE    68.786507\n",
              "36        2012  BOTHSEX    78.112266\n",
              "37        2012   FEMALE    79.674836\n",
              "38        2012     MALE    71.805994\n",
              "39        2013  BOTHSEX    76.757507\n",
              "40        2013   FEMALE    77.680565\n",
              "41        2013     MALE    70.778366\n",
              "42        2014  BOTHSEX    79.772535\n",
              "43        2014   FEMALE    79.829120\n",
              "44        2014     MALE    72.804898\n",
              "45        2015  BOTHSEX    79.192900\n",
              "46        2015   FEMALE    79.624001\n",
              "47        2015     MALE    73.745662\n",
              "48        2016  BOTHSEX    81.683417\n",
              "49        2016   FEMALE    82.025939\n",
              "50        2016     MALE    75.995505\n",
              "51        2017  BOTHSEX    83.154894\n",
              "52        2017   FEMALE    83.922404\n",
              "53        2017     MALE    79.838283\n",
              "54        2018  BOTHSEX    83.014626\n",
              "55        2018   FEMALE    83.648925\n",
              "56        2018     MALE    78.761646\n",
              "57        2019  BOTHSEX    58.002120\n",
              "58        2019   FEMALE    57.387976\n",
              "59        2019     MALE    56.974659"
            ]
          },
          "metadata": {
            "tags": []
          },
          "execution_count": 8
        }
      ]
    },
    {
      "cell_type": "code",
      "metadata": {
        "colab": {
          "base_uri": "https://localhost:8080/",
          "height": 645
        },
        "id": "hoedzLjvyx_e",
        "outputId": "30c02bfe-e65d-4341-98a9-6825aa9c355a"
      },
      "source": [
        "# analysis trends in the female teachers education\n",
        "world_female_mean = mean_yearwise[(mean_yearwise['Sex']=='FEMALE') & (mean_yearwise['TimePeriod']!=2019)]\n",
        "world_female_mean"
      ],
      "execution_count": 9,
      "outputs": [
        {
          "output_type": "execute_result",
          "data": {
            "text/html": [
              "<div>\n",
              "<style scoped>\n",
              "    .dataframe tbody tr th:only-of-type {\n",
              "        vertical-align: middle;\n",
              "    }\n",
              "\n",
              "    .dataframe tbody tr th {\n",
              "        vertical-align: top;\n",
              "    }\n",
              "\n",
              "    .dataframe thead th {\n",
              "        text-align: right;\n",
              "    }\n",
              "</style>\n",
              "<table border=\"1\" class=\"dataframe\">\n",
              "  <thead>\n",
              "    <tr style=\"text-align: right;\">\n",
              "      <th></th>\n",
              "      <th>TimePeriod</th>\n",
              "      <th>Sex</th>\n",
              "      <th>mean_values</th>\n",
              "    </tr>\n",
              "  </thead>\n",
              "  <tbody>\n",
              "    <tr>\n",
              "      <th>1</th>\n",
              "      <td>2000</td>\n",
              "      <td>FEMALE</td>\n",
              "      <td>74.852859</td>\n",
              "    </tr>\n",
              "    <tr>\n",
              "      <th>4</th>\n",
              "      <td>2001</td>\n",
              "      <td>FEMALE</td>\n",
              "      <td>76.953774</td>\n",
              "    </tr>\n",
              "    <tr>\n",
              "      <th>7</th>\n",
              "      <td>2002</td>\n",
              "      <td>FEMALE</td>\n",
              "      <td>75.192221</td>\n",
              "    </tr>\n",
              "    <tr>\n",
              "      <th>10</th>\n",
              "      <td>2003</td>\n",
              "      <td>FEMALE</td>\n",
              "      <td>70.579723</td>\n",
              "    </tr>\n",
              "    <tr>\n",
              "      <th>13</th>\n",
              "      <td>2004</td>\n",
              "      <td>FEMALE</td>\n",
              "      <td>75.013509</td>\n",
              "    </tr>\n",
              "    <tr>\n",
              "      <th>16</th>\n",
              "      <td>2005</td>\n",
              "      <td>FEMALE</td>\n",
              "      <td>76.925684</td>\n",
              "    </tr>\n",
              "    <tr>\n",
              "      <th>19</th>\n",
              "      <td>2006</td>\n",
              "      <td>FEMALE</td>\n",
              "      <td>76.878304</td>\n",
              "    </tr>\n",
              "    <tr>\n",
              "      <th>22</th>\n",
              "      <td>2007</td>\n",
              "      <td>FEMALE</td>\n",
              "      <td>78.328096</td>\n",
              "    </tr>\n",
              "    <tr>\n",
              "      <th>25</th>\n",
              "      <td>2008</td>\n",
              "      <td>FEMALE</td>\n",
              "      <td>76.262052</td>\n",
              "    </tr>\n",
              "    <tr>\n",
              "      <th>28</th>\n",
              "      <td>2009</td>\n",
              "      <td>FEMALE</td>\n",
              "      <td>76.332765</td>\n",
              "    </tr>\n",
              "    <tr>\n",
              "      <th>31</th>\n",
              "      <td>2010</td>\n",
              "      <td>FEMALE</td>\n",
              "      <td>72.210189</td>\n",
              "    </tr>\n",
              "    <tr>\n",
              "      <th>34</th>\n",
              "      <td>2011</td>\n",
              "      <td>FEMALE</td>\n",
              "      <td>76.433305</td>\n",
              "    </tr>\n",
              "    <tr>\n",
              "      <th>37</th>\n",
              "      <td>2012</td>\n",
              "      <td>FEMALE</td>\n",
              "      <td>79.674836</td>\n",
              "    </tr>\n",
              "    <tr>\n",
              "      <th>40</th>\n",
              "      <td>2013</td>\n",
              "      <td>FEMALE</td>\n",
              "      <td>77.680565</td>\n",
              "    </tr>\n",
              "    <tr>\n",
              "      <th>43</th>\n",
              "      <td>2014</td>\n",
              "      <td>FEMALE</td>\n",
              "      <td>79.829120</td>\n",
              "    </tr>\n",
              "    <tr>\n",
              "      <th>46</th>\n",
              "      <td>2015</td>\n",
              "      <td>FEMALE</td>\n",
              "      <td>79.624001</td>\n",
              "    </tr>\n",
              "    <tr>\n",
              "      <th>49</th>\n",
              "      <td>2016</td>\n",
              "      <td>FEMALE</td>\n",
              "      <td>82.025939</td>\n",
              "    </tr>\n",
              "    <tr>\n",
              "      <th>52</th>\n",
              "      <td>2017</td>\n",
              "      <td>FEMALE</td>\n",
              "      <td>83.922404</td>\n",
              "    </tr>\n",
              "    <tr>\n",
              "      <th>55</th>\n",
              "      <td>2018</td>\n",
              "      <td>FEMALE</td>\n",
              "      <td>83.648925</td>\n",
              "    </tr>\n",
              "  </tbody>\n",
              "</table>\n",
              "</div>"
            ],
            "text/plain": [
              "    TimePeriod     Sex  mean_values\n",
              "1         2000  FEMALE    74.852859\n",
              "4         2001  FEMALE    76.953774\n",
              "7         2002  FEMALE    75.192221\n",
              "10        2003  FEMALE    70.579723\n",
              "13        2004  FEMALE    75.013509\n",
              "16        2005  FEMALE    76.925684\n",
              "19        2006  FEMALE    76.878304\n",
              "22        2007  FEMALE    78.328096\n",
              "25        2008  FEMALE    76.262052\n",
              "28        2009  FEMALE    76.332765\n",
              "31        2010  FEMALE    72.210189\n",
              "34        2011  FEMALE    76.433305\n",
              "37        2012  FEMALE    79.674836\n",
              "40        2013  FEMALE    77.680565\n",
              "43        2014  FEMALE    79.829120\n",
              "46        2015  FEMALE    79.624001\n",
              "49        2016  FEMALE    82.025939\n",
              "52        2017  FEMALE    83.922404\n",
              "55        2018  FEMALE    83.648925"
            ]
          },
          "metadata": {
            "tags": []
          },
          "execution_count": 9
        }
      ]
    },
    {
      "cell_type": "code",
      "metadata": {
        "colab": {
          "base_uri": "https://localhost:8080/",
          "height": 388
        },
        "id": "6LzLSYyWyzv6",
        "outputId": "ea35691f-2f20-4665-85b6-0e6a46b3fbaa"
      },
      "source": [
        "fig, ax = plt.subplots(figsize=(10, 6))\n",
        "ax.scatter(world_female_mean['TimePeriod'], world_female_mean['mean_values'])\n",
        "plt.xlabel('TimePeriod')\n",
        "plt.ylabel('mean_values')\n",
        "plt.savefig('1.png')\n",
        "plt.show()"
      ],
      "execution_count": 10,
      "outputs": [
        {
          "output_type": "display_data",
          "data": {
            "image/png": "[encoded data removed]",
            "text/plain": [
              "<Figure size 720x432 with 1 Axes>"
            ]
          },
          "metadata": {
            "tags": [],
            "needs_background": "light"
          }
        }
      ]
    },
    {
      "cell_type": "code",
      "metadata": {
        "colab": {
          "base_uri": "https://localhost:8080/",
          "height": 334
        },
        "id": "UiW0rp4Qy-71",
        "outputId": "402f5dac-4808-4f74-dcb0-cfb19d869310"
      },
      "source": [
        "# LR to predict the future values \n",
        "from sklearn.linear_model import LinearRegression\n",
        "\n",
        "X_WF = pd.DataFrame(world_female_mean['TimePeriod'])\n",
        "Y_WF = pd.DataFrame(world_female_mean['mean_values'])\n",
        "\n",
        "# #fit the points in the model\n",
        "model = LinearRegression().fit(X_WF, Y_WF)\n",
        "\n",
        "print('Intercept:', model.intercept_) #intercept\n",
        "print('Slope:', model.coef_) # slope -m\n",
        "\n",
        "# #plot the original points\n",
        "plt.scatter(X_WF, Y_WF, color ='m')\n",
        "# #plot the values estimated by model\n",
        "plt.plot(X_WF, model.predict(X_WF), color='y')\n",
        "plt.xlabel('Time')\n",
        "plt.ylabel('Values')"
      ],
      "execution_count": 11,
      "outputs": [
        {
          "output_type": "stream",
          "text": [
            "Intercept: [-855.32105665]\n",
            "Slope: [[0.46431763]]\n"
          ],
          "name": "stdout"
        },
        {
          "output_type": "execute_result",
          "data": {
            "text/plain": [
              "Text(0, 0.5, 'Values')"
            ]
          },
          "metadata": {
            "tags": []
          },
          "execution_count": 11
        },
        {
          "output_type": "display_data",
          "data": {
            "image/png": "[encoded data removed]",
            "text/plain": [
              "<Figure size 432x288 with 1 Axes>"
            ]
          },
          "metadata": {
            "tags": [],
            "needs_background": "light"
          }
        }
      ]
    },
    {
      "cell_type": "code",
      "metadata": {
        "colab": {
          "base_uri": "https://localhost:8080/",
          "height": 645
        },
        "id": "xrMcAlcDzF91",
        "outputId": "d4f342b2-17ac-40d8-dea5-c070770a0a81"
      },
      "source": [
        "# analysing male teacher trends\n",
        "world_male_mean = mean_yearwise[(mean_yearwise['Sex']=='MALE') & (mean_yearwise['TimePeriod']!=2019)]\n",
        "world_male_mean"
      ],
      "execution_count": 12,
      "outputs": [
        {
          "output_type": "execute_result",
          "data": {
            "text/html": [
              "<div>\n",
              "<style scoped>\n",
              "    .dataframe tbody tr th:only-of-type {\n",
              "        vertical-align: middle;\n",
              "    }\n",
              "\n",
              "    .dataframe tbody tr th {\n",
              "        vertical-align: top;\n",
              "    }\n",
              "\n",
              "    .dataframe thead th {\n",
              "        text-align: right;\n",
              "    }\n",
              "</style>\n",
              "<table border=\"1\" class=\"dataframe\">\n",
              "  <thead>\n",
              "    <tr style=\"text-align: right;\">\n",
              "      <th></th>\n",
              "      <th>TimePeriod</th>\n",
              "      <th>Sex</th>\n",
              "      <th>mean_values</th>\n",
              "    </tr>\n",
              "  </thead>\n",
              "  <tbody>\n",
              "    <tr>\n",
              "      <th>2</th>\n",
              "      <td>2000</td>\n",
              "      <td>MALE</td>\n",
              "      <td>63.790358</td>\n",
              "    </tr>\n",
              "    <tr>\n",
              "      <th>5</th>\n",
              "      <td>2001</td>\n",
              "      <td>MALE</td>\n",
              "      <td>66.670287</td>\n",
              "    </tr>\n",
              "    <tr>\n",
              "      <th>8</th>\n",
              "      <td>2002</td>\n",
              "      <td>MALE</td>\n",
              "      <td>63.993896</td>\n",
              "    </tr>\n",
              "    <tr>\n",
              "      <th>11</th>\n",
              "      <td>2003</td>\n",
              "      <td>MALE</td>\n",
              "      <td>62.354794</td>\n",
              "    </tr>\n",
              "    <tr>\n",
              "      <th>14</th>\n",
              "      <td>2004</td>\n",
              "      <td>MALE</td>\n",
              "      <td>63.797408</td>\n",
              "    </tr>\n",
              "    <tr>\n",
              "      <th>17</th>\n",
              "      <td>2005</td>\n",
              "      <td>MALE</td>\n",
              "      <td>66.594116</td>\n",
              "    </tr>\n",
              "    <tr>\n",
              "      <th>20</th>\n",
              "      <td>2006</td>\n",
              "      <td>MALE</td>\n",
              "      <td>67.727524</td>\n",
              "    </tr>\n",
              "    <tr>\n",
              "      <th>23</th>\n",
              "      <td>2007</td>\n",
              "      <td>MALE</td>\n",
              "      <td>70.749583</td>\n",
              "    </tr>\n",
              "    <tr>\n",
              "      <th>26</th>\n",
              "      <td>2008</td>\n",
              "      <td>MALE</td>\n",
              "      <td>69.190338</td>\n",
              "    </tr>\n",
              "    <tr>\n",
              "      <th>29</th>\n",
              "      <td>2009</td>\n",
              "      <td>MALE</td>\n",
              "      <td>68.359767</td>\n",
              "    </tr>\n",
              "    <tr>\n",
              "      <th>32</th>\n",
              "      <td>2010</td>\n",
              "      <td>MALE</td>\n",
              "      <td>65.113885</td>\n",
              "    </tr>\n",
              "    <tr>\n",
              "      <th>35</th>\n",
              "      <td>2011</td>\n",
              "      <td>MALE</td>\n",
              "      <td>68.786507</td>\n",
              "    </tr>\n",
              "    <tr>\n",
              "      <th>38</th>\n",
              "      <td>2012</td>\n",
              "      <td>MALE</td>\n",
              "      <td>71.805994</td>\n",
              "    </tr>\n",
              "    <tr>\n",
              "      <th>41</th>\n",
              "      <td>2013</td>\n",
              "      <td>MALE</td>\n",
              "      <td>70.778366</td>\n",
              "    </tr>\n",
              "    <tr>\n",
              "      <th>44</th>\n",
              "      <td>2014</td>\n",
              "      <td>MALE</td>\n",
              "      <td>72.804898</td>\n",
              "    </tr>\n",
              "    <tr>\n",
              "      <th>47</th>\n",
              "      <td>2015</td>\n",
              "      <td>MALE</td>\n",
              "      <td>73.745662</td>\n",
              "    </tr>\n",
              "    <tr>\n",
              "      <th>50</th>\n",
              "      <td>2016</td>\n",
              "      <td>MALE</td>\n",
              "      <td>75.995505</td>\n",
              "    </tr>\n",
              "    <tr>\n",
              "      <th>53</th>\n",
              "      <td>2017</td>\n",
              "      <td>MALE</td>\n",
              "      <td>79.838283</td>\n",
              "    </tr>\n",
              "    <tr>\n",
              "      <th>56</th>\n",
              "      <td>2018</td>\n",
              "      <td>MALE</td>\n",
              "      <td>78.761646</td>\n",
              "    </tr>\n",
              "  </tbody>\n",
              "</table>\n",
              "</div>"
            ],
            "text/plain": [
              "    TimePeriod   Sex  mean_values\n",
              "2         2000  MALE    63.790358\n",
              "5         2001  MALE    66.670287\n",
              "8         2002  MALE    63.993896\n",
              "11        2003  MALE    62.354794\n",
              "14        2004  MALE    63.797408\n",
              "17        2005  MALE    66.594116\n",
              "20        2006  MALE    67.727524\n",
              "23        2007  MALE    70.749583\n",
              "26        2008  MALE    69.190338\n",
              "29        2009  MALE    68.359767\n",
              "32        2010  MALE    65.113885\n",
              "35        2011  MALE    68.786507\n",
              "38        2012  MALE    71.805994\n",
              "41        2013  MALE    70.778366\n",
              "44        2014  MALE    72.804898\n",
              "47        2015  MALE    73.745662\n",
              "50        2016  MALE    75.995505\n",
              "53        2017  MALE    79.838283\n",
              "56        2018  MALE    78.761646"
            ]
          },
          "metadata": {
            "tags": []
          },
          "execution_count": 12
        }
      ]
    },
    {
      "cell_type": "code",
      "metadata": {
        "colab": {
          "base_uri": "https://localhost:8080/",
          "height": 388
        },
        "id": "D8czEL_HzLxi",
        "outputId": "a03a717c-2b8e-44fc-b73c-f0ef57bff06c"
      },
      "source": [
        "fig, ax = plt.subplots(figsize=(10, 6))\n",
        "ax.scatter(world_male_mean['TimePeriod'], world_male_mean['mean_values'])\n",
        "plt.xlabel('TimePeriod')\n",
        "plt.ylabel('mean_values')\n",
        "plt.savefig('2.png')\n",
        "plt.show()"
      ],
      "execution_count": 13,
      "outputs": [
        {
          "output_type": "display_data",
          "data": {
            "image/png": "[encoded data removed]",
            "text/plain": [
              "<Figure size 720x432 with 1 Axes>"
            ]
          },
          "metadata": {
            "tags": [],
            "needs_background": "light"
          }
        }
      ]
    },
    {
      "cell_type": "code",
      "metadata": {
        "colab": {
          "base_uri": "https://localhost:8080/",
          "height": 334
        },
        "id": "NEKGuB2YzOV3",
        "outputId": "53378817-e865-4997-b19b-8c93ac8a45a5"
      },
      "source": [
        "X_WM = pd.DataFrame(world_male_mean['TimePeriod'])\n",
        "Y_WM = pd.DataFrame(world_male_mean['mean_values'])\n",
        "\n",
        "# #fit the points in the model\n",
        "model = LinearRegression().fit(X_WM, Y_WM)\n",
        "\n",
        "print('Intercept:', model.intercept_) #intercept\n",
        "print('Slope:', model.coef_) # slope -m\n",
        "\n",
        "# #plot the original points\n",
        "plt.scatter(X_WM, Y_WM, color ='m')\n",
        "# #plot the values estimated by model\n",
        "plt.plot(X_WM, model.predict(X_WM), color='y')\n",
        "plt.xlabel('Time')\n",
        "plt.ylabel('Values')"
      ],
      "execution_count": 14,
      "outputs": [
        {
          "output_type": "stream",
          "text": [
            "Intercept: [-1546.31377317]\n",
            "Slope: [[0.80429699]]\n"
          ],
          "name": "stdout"
        },
        {
          "output_type": "execute_result",
          "data": {
            "text/plain": [
              "Text(0, 0.5, 'Values')"
            ]
          },
          "metadata": {
            "tags": []
          },
          "execution_count": 14
        },
        {
          "output_type": "display_data",
          "data": {
            "image/png": "[encoded data removed]",
            "text/plain": [
              "<Figure size 432x288 with 1 Axes>"
            ]
          },
          "metadata": {
            "tags": [],
            "needs_background": "light"
          }
        }
      ]
    },
    {
      "cell_type": "code",
      "metadata": {
        "colab": {
          "base_uri": "https://localhost:8080/",
          "height": 632
        },
        "id": "FgRnpxRbz_MU",
        "outputId": "5c2334b7-9e92-4336-cb45-8356f45d380e"
      },
      "source": [
        "#Analysing youth and adults with information and technology skills\n",
        "new_df = df[df[\"SeriesDescription\"] == \"Proportion of youth and adults with information and communications technology (ICT) skills, by sex and type of skill (%)\"]\n",
        "new_df"
      ],
      "execution_count": 15,
      "outputs": [
        {
          "output_type": "execute_result",
          "data": {
            "text/html": [
              "<div>\n",
              "<style scoped>\n",
              "    .dataframe tbody tr th:only-of-type {\n",
              "        vertical-align: middle;\n",
              "    }\n",
              "\n",
              "    .dataframe tbody tr th {\n",
              "        vertical-align: top;\n",
              "    }\n",
              "\n",
              "    .dataframe thead th {\n",
              "        text-align: right;\n",
              "    }\n",
              "</style>\n",
              "<table border=\"1\" class=\"dataframe\">\n",
              "  <thead>\n",
              "    <tr style=\"text-align: right;\">\n",
              "      <th></th>\n",
              "      <th>Goal</th>\n",
              "      <th>Target</th>\n",
              "      <th>Indicator</th>\n",
              "      <th>SeriesDescription</th>\n",
              "      <th>GeoAreaName</th>\n",
              "      <th>TimePeriod</th>\n",
              "      <th>Value</th>\n",
              "      <th>Sex</th>\n",
              "      <th>Education level</th>\n",
              "      <th>Type of skill</th>\n",
              "    </tr>\n",
              "  </thead>\n",
              "  <tbody>\n",
              "    <tr>\n",
              "      <th>87476</th>\n",
              "      <td>4</td>\n",
              "      <td>4.4</td>\n",
              "      <td>4.4.1</td>\n",
              "      <td>Proportion of youth and adults with informatio...</td>\n",
              "      <td>Albania</td>\n",
              "      <td>2019</td>\n",
              "      <td>16.12054</td>\n",
              "      <td>BOTHSEX</td>\n",
              "      <td>NaN</td>\n",
              "      <td>COPA</td>\n",
              "    </tr>\n",
              "    <tr>\n",
              "      <th>87477</th>\n",
              "      <td>4</td>\n",
              "      <td>4.4</td>\n",
              "      <td>4.4.1</td>\n",
              "      <td>Proportion of youth and adults with informatio...</td>\n",
              "      <td>Albania</td>\n",
              "      <td>2019</td>\n",
              "      <td>13.89042</td>\n",
              "      <td>BOTHSEX</td>\n",
              "      <td>NaN</td>\n",
              "      <td>SOFT</td>\n",
              "    </tr>\n",
              "    <tr>\n",
              "      <th>87478</th>\n",
              "      <td>4</td>\n",
              "      <td>4.4</td>\n",
              "      <td>4.4.1</td>\n",
              "      <td>Proportion of youth and adults with informatio...</td>\n",
              "      <td>Albania</td>\n",
              "      <td>2019</td>\n",
              "      <td>12.57493</td>\n",
              "      <td>FEMALE</td>\n",
              "      <td>NaN</td>\n",
              "      <td>SOFT</td>\n",
              "    </tr>\n",
              "    <tr>\n",
              "      <th>87479</th>\n",
              "      <td>4</td>\n",
              "      <td>4.4</td>\n",
              "      <td>4.4.1</td>\n",
              "      <td>Proportion of youth and adults with informatio...</td>\n",
              "      <td>Albania</td>\n",
              "      <td>2019</td>\n",
              "      <td>21.55040</td>\n",
              "      <td>MALE</td>\n",
              "      <td>NaN</td>\n",
              "      <td>TRAF</td>\n",
              "    </tr>\n",
              "    <tr>\n",
              "      <th>87480</th>\n",
              "      <td>4</td>\n",
              "      <td>4.4</td>\n",
              "      <td>4.4.1</td>\n",
              "      <td>Proportion of youth and adults with informatio...</td>\n",
              "      <td>Albania</td>\n",
              "      <td>2019</td>\n",
              "      <td>1.35666</td>\n",
              "      <td>FEMALE</td>\n",
              "      <td>NaN</td>\n",
              "      <td>PCPR</td>\n",
              "    </tr>\n",
              "    <tr>\n",
              "      <th>...</th>\n",
              "      <td>...</td>\n",
              "      <td>...</td>\n",
              "      <td>...</td>\n",
              "      <td>...</td>\n",
              "      <td>...</td>\n",
              "      <td>...</td>\n",
              "      <td>...</td>\n",
              "      <td>...</td>\n",
              "      <td>...</td>\n",
              "      <td>...</td>\n",
              "    </tr>\n",
              "    <tr>\n",
              "      <th>93400</th>\n",
              "      <td>4</td>\n",
              "      <td>4.4</td>\n",
              "      <td>4.4.1</td>\n",
              "      <td>Proportion of youth and adults with informatio...</td>\n",
              "      <td>Uzbekistan</td>\n",
              "      <td>2018</td>\n",
              "      <td>37.63104</td>\n",
              "      <td>FEMALE</td>\n",
              "      <td>NaN</td>\n",
              "      <td>CMFL</td>\n",
              "    </tr>\n",
              "    <tr>\n",
              "      <th>93401</th>\n",
              "      <td>4</td>\n",
              "      <td>4.4</td>\n",
              "      <td>4.4.1</td>\n",
              "      <td>Proportion of youth and adults with informatio...</td>\n",
              "      <td>Uzbekistan</td>\n",
              "      <td>2018</td>\n",
              "      <td>4.40000</td>\n",
              "      <td>BOTHSEX</td>\n",
              "      <td>NaN</td>\n",
              "      <td>TRAF</td>\n",
              "    </tr>\n",
              "    <tr>\n",
              "      <th>93402</th>\n",
              "      <td>4</td>\n",
              "      <td>4.4</td>\n",
              "      <td>4.4.1</td>\n",
              "      <td>Proportion of youth and adults with informatio...</td>\n",
              "      <td>Uzbekistan</td>\n",
              "      <td>2018</td>\n",
              "      <td>3.52701</td>\n",
              "      <td>FEMALE</td>\n",
              "      <td>NaN</td>\n",
              "      <td>TRAF</td>\n",
              "    </tr>\n",
              "    <tr>\n",
              "      <th>93403</th>\n",
              "      <td>4</td>\n",
              "      <td>4.4</td>\n",
              "      <td>4.4.1</td>\n",
              "      <td>Proportion of youth and adults with informatio...</td>\n",
              "      <td>Uzbekistan</td>\n",
              "      <td>2018</td>\n",
              "      <td>14.10000</td>\n",
              "      <td>BOTHSEX</td>\n",
              "      <td>NaN</td>\n",
              "      <td>EMAIL</td>\n",
              "    </tr>\n",
              "    <tr>\n",
              "      <th>93404</th>\n",
              "      <td>4</td>\n",
              "      <td>4.4</td>\n",
              "      <td>4.4.1</td>\n",
              "      <td>Proportion of youth and adults with informatio...</td>\n",
              "      <td>Uzbekistan</td>\n",
              "      <td>2018</td>\n",
              "      <td>9.06330</td>\n",
              "      <td>FEMALE</td>\n",
              "      <td>NaN</td>\n",
              "      <td>ARSP</td>\n",
              "    </tr>\n",
              "  </tbody>\n",
              "</table>\n",
              "<p>5929 rows × 10 columns</p>\n",
              "</div>"
            ],
            "text/plain": [
              "       Goal Target Indicator  ...      Sex Education level  Type of skill\n",
              "87476     4    4.4     4.4.1  ...  BOTHSEX             NaN           COPA\n",
              "87477     4    4.4     4.4.1  ...  BOTHSEX             NaN           SOFT\n",
              "87478     4    4.4     4.4.1  ...   FEMALE             NaN           SOFT\n",
              "87479     4    4.4     4.4.1  ...     MALE             NaN           TRAF\n",
              "87480     4    4.4     4.4.1  ...   FEMALE             NaN           PCPR\n",
              "...     ...    ...       ...  ...      ...             ...            ...\n",
              "93400     4    4.4     4.4.1  ...   FEMALE             NaN           CMFL\n",
              "93401     4    4.4     4.4.1  ...  BOTHSEX             NaN           TRAF\n",
              "93402     4    4.4     4.4.1  ...   FEMALE             NaN           TRAF\n",
              "93403     4    4.4     4.4.1  ...  BOTHSEX             NaN          EMAIL\n",
              "93404     4    4.4     4.4.1  ...   FEMALE             NaN           ARSP\n",
              "\n",
              "[5929 rows x 10 columns]"
            ]
          },
          "metadata": {
            "tags": []
          },
          "execution_count": 15
        }
      ]
    },
    {
      "cell_type": "code",
      "metadata": {
        "colab": {
          "base_uri": "https://localhost:8080/",
          "height": 335
        },
        "id": "VNf09R5t01pg",
        "outputId": "ea329f94-0b2e-49cd-b557-45f38af39b17"
      },
      "source": [
        "#Total number of people in 144 countries\n",
        "by_gender_all = df.groupby('Sex')\n",
        "by_gender_all.size().plot(kind='bar')"
      ],
      "execution_count": 16,
      "outputs": [
        {
          "output_type": "execute_result",
          "data": {
            "text/plain": [
              "<matplotlib.axes._subplots.AxesSubplot at 0x7fb33148dd50>"
            ]
          },
          "metadata": {
            "tags": []
          },
          "execution_count": 16
        },
        {
          "output_type": "display_data",
          "data": {
            "image/png": "[encoded data removed]",
            "text/plain": [
              "<Figure size 432x288 with 1 Axes>"
            ]
          },
          "metadata": {
            "tags": [],
            "needs_background": "light"
          }
        }
      ]
    },
    {
      "cell_type": "code",
      "metadata": {
        "colab": {
          "base_uri": "https://localhost:8080/",
          "height": 335
        },
        "id": "znlX7yrg07rK",
        "outputId": "a721bfa6-db21-4350-f460-3bc49a5a26b5"
      },
      "source": [
        "#Total number of people for ICT skills indicator\n",
        "by_gender = new_df.groupby('Sex')\n",
        "by_gender.size().plot(kind='bar')"
      ],
      "execution_count": 17,
      "outputs": [
        {
          "output_type": "execute_result",
          "data": {
            "text/plain": [
              "<matplotlib.axes._subplots.AxesSubplot at 0x7fb33140b4d0>"
            ]
          },
          "metadata": {
            "tags": []
          },
          "execution_count": 17
        },
        {
          "output_type": "display_data",
          "data": {
            "image/png": "[encoded data removed]",
            "text/plain": [
              "<Figure size 432x288 with 1 Axes>"
            ]
          },
          "metadata": {
            "tags": [],
            "needs_background": "light"
          }
        }
      ]
    },
    {
      "cell_type": "code",
      "metadata": {
        "colab": {
          "base_uri": "https://localhost:8080/",
          "height": 313
        },
        "id": "vYbUY6LR09lL",
        "outputId": "53f0975b-88f8-4364-a78d-3f8571d75488"
      },
      "source": [
        "#Total number of people for 144 countries groupes by year and sex\n",
        "by_year_gender_all = df.groupby(['TimePeriod','Sex'])\n",
        "year_gen_sz_all = by_year_gender_all.size().unstack()\n",
        "year_gen_sz_all.plot(kind='bar', figsize=(16,4))"
      ],
      "execution_count": 18,
      "outputs": [
        {
          "output_type": "execute_result",
          "data": {
            "text/plain": [
              "<matplotlib.axes._subplots.AxesSubplot at 0x7fb33264f090>"
            ]
          },
          "metadata": {
            "tags": []
          },
          "execution_count": 18
        },
        {
          "output_type": "display_data",
          "data": {
            "image/png": "[encoded data removed]",
            "text/plain": [
              "<Figure size 1152x288 with 1 Axes>"
            ]
          },
          "metadata": {
            "tags": [],
            "needs_background": "light"
          }
        }
      ]
    },
    {
      "cell_type": "code",
      "metadata": {
        "colab": {
          "base_uri": "https://localhost:8080/",
          "height": 315
        },
        "id": "UMg5Y7ID1Cke",
        "outputId": "ca670f8a-8055-4f83-ffb2-f4ee45ba5662"
      },
      "source": [
        "#Total number of people for ICT skills indicator groupes by year and sex\n",
        "by_year_gender = new_df.groupby(['TimePeriod','Sex'])\n",
        "year_gen_sz = by_year_gender.size().unstack()\n",
        "year_gen_sz.plot(kind='bar', figsize=(16,4))"
      ],
      "execution_count": 19,
      "outputs": [
        {
          "output_type": "execute_result",
          "data": {
            "text/plain": [
              "<matplotlib.axes._subplots.AxesSubplot at 0x7fb33123a950>"
            ]
          },
          "metadata": {
            "tags": []
          },
          "execution_count": 19
        },
        {
          "output_type": "display_data",
          "data": {
            "image/png": "[encoded data removed]",
            "text/plain": [
              "<Figure size 1152x288 with 1 Axes>"
            ]
          },
          "metadata": {
            "tags": [],
            "needs_background": "light"
          }
        }
      ]
    },
    {
      "cell_type": "code",
      "metadata": {
        "colab": {
          "base_uri": "https://localhost:8080/"
        },
        "id": "sAEVbv2H1HXa",
        "outputId": "7f766e2b-14ba-43bc-8405-16e3266b321f"
      },
      "source": [
        "#Checking for the Na values\n",
        "new_df.isnull().values.any()\n",
        "new_df.isnull().sum()"
      ],
      "execution_count": 20,
      "outputs": [
        {
          "output_type": "execute_result",
          "data": {
            "text/plain": [
              "Goal                    0\n",
              "Target                  0\n",
              "Indicator               0\n",
              "SeriesDescription       0\n",
              "GeoAreaName             0\n",
              "TimePeriod              0\n",
              "Value                   0\n",
              "Sex                     0\n",
              "Education level      5929\n",
              "Type of skill           0\n",
              "dtype: int64"
            ]
          },
          "metadata": {
            "tags": []
          },
          "execution_count": 20
        }
      ]
    },
    {
      "cell_type": "code",
      "metadata": {
        "colab": {
          "base_uri": "https://localhost:8080/",
          "height": 616
        },
        "id": "M2sFwURo1MKL",
        "outputId": "d3c3e031-2e3b-4188-e9b0-a0850ea64455"
      },
      "source": [
        "#Graph showing the year grouped with country vs mean of value\n",
        "new_df.groupby([\"TimePeriod\", \"GeoAreaName\"]).mean()['Value'].plot(kind='bar', figsize=(100,4))"
      ],
      "execution_count": 21,
      "outputs": [
        {
          "output_type": "execute_result",
          "data": {
            "text/plain": [
              "<matplotlib.axes._subplots.AxesSubplot at 0x7fb331181450>"
            ]
          },
          "metadata": {
            "tags": []
          },
          "execution_count": 21
        },
        {
          "output_type": "display_data",
          "data": {
            "image/png": "[encoded data removed]",
            "text/plain": [
              "<Figure size 7200x288 with 1 Axes>"
            ]
          },
          "metadata": {
            "tags": [],
            "needs_background": "light"
          }
        }
      ]
    },
    {
      "cell_type": "code",
      "metadata": {
        "colab": {
          "base_uri": "https://localhost:8080/",
          "height": 632
        },
        "id": "yq0Nutff1QKR",
        "outputId": "42304d26-2f4a-47e0-acc0-fe51ba6c17c3"
      },
      "source": [
        "#New dataframe/subset of the selected 10 countries\n",
        "options = ['China', 'Columbia', 'Congo', 'Egypt', 'Pakistan', 'Poland', 'Iraq', 'Mexico', 'Nigeria', 'Turkey']\n",
        "# selecting rows based on condition\n",
        "rslt_df = new_df[new_df['GeoAreaName'].isin(options)]\n",
        "rslt_df"
      ],
      "execution_count": 22,
      "outputs": [
        {
          "output_type": "execute_result",
          "data": {
            "text/html": [
              "<div>\n",
              "<style scoped>\n",
              "    .dataframe tbody tr th:only-of-type {\n",
              "        vertical-align: middle;\n",
              "    }\n",
              "\n",
              "    .dataframe tbody tr th {\n",
              "        vertical-align: top;\n",
              "    }\n",
              "\n",
              "    .dataframe thead th {\n",
              "        text-align: right;\n",
              "    }\n",
              "</style>\n",
              "<table border=\"1\" class=\"dataframe\">\n",
              "  <thead>\n",
              "    <tr style=\"text-align: right;\">\n",
              "      <th></th>\n",
              "      <th>Goal</th>\n",
              "      <th>Target</th>\n",
              "      <th>Indicator</th>\n",
              "      <th>SeriesDescription</th>\n",
              "      <th>GeoAreaName</th>\n",
              "      <th>TimePeriod</th>\n",
              "      <th>Value</th>\n",
              "      <th>Sex</th>\n",
              "      <th>Education level</th>\n",
              "      <th>Type of skill</th>\n",
              "    </tr>\n",
              "  </thead>\n",
              "  <tbody>\n",
              "    <tr>\n",
              "      <th>89798</th>\n",
              "      <td>4</td>\n",
              "      <td>4.4</td>\n",
              "      <td>4.4.1</td>\n",
              "      <td>Proportion of youth and adults with informatio...</td>\n",
              "      <td>Iraq</td>\n",
              "      <td>2014</td>\n",
              "      <td>37.60000</td>\n",
              "      <td>BOTHSEX</td>\n",
              "      <td>NaN</td>\n",
              "      <td>EMAIL</td>\n",
              "    </tr>\n",
              "    <tr>\n",
              "      <th>89799</th>\n",
              "      <td>4</td>\n",
              "      <td>4.4</td>\n",
              "      <td>4.4.1</td>\n",
              "      <td>Proportion of youth and adults with informatio...</td>\n",
              "      <td>Iraq</td>\n",
              "      <td>2014</td>\n",
              "      <td>23.00000</td>\n",
              "      <td>BOTHSEX</td>\n",
              "      <td>NaN</td>\n",
              "      <td>SOFT</td>\n",
              "    </tr>\n",
              "    <tr>\n",
              "      <th>89800</th>\n",
              "      <td>4</td>\n",
              "      <td>4.4</td>\n",
              "      <td>4.4.1</td>\n",
              "      <td>Proportion of youth and adults with informatio...</td>\n",
              "      <td>Iraq</td>\n",
              "      <td>2014</td>\n",
              "      <td>4.70000</td>\n",
              "      <td>BOTHSEX</td>\n",
              "      <td>NaN</td>\n",
              "      <td>PCPR</td>\n",
              "    </tr>\n",
              "    <tr>\n",
              "      <th>89801</th>\n",
              "      <td>4</td>\n",
              "      <td>4.4</td>\n",
              "      <td>4.4.1</td>\n",
              "      <td>Proportion of youth and adults with informatio...</td>\n",
              "      <td>Iraq</td>\n",
              "      <td>2014</td>\n",
              "      <td>48.86000</td>\n",
              "      <td>BOTHSEX</td>\n",
              "      <td>NaN</td>\n",
              "      <td>CMFL</td>\n",
              "    </tr>\n",
              "    <tr>\n",
              "      <th>89802</th>\n",
              "      <td>4</td>\n",
              "      <td>4.4</td>\n",
              "      <td>4.4.1</td>\n",
              "      <td>Proportion of youth and adults with informatio...</td>\n",
              "      <td>Iraq</td>\n",
              "      <td>2014</td>\n",
              "      <td>6.90000</td>\n",
              "      <td>BOTHSEX</td>\n",
              "      <td>NaN</td>\n",
              "      <td>TRAF</td>\n",
              "    </tr>\n",
              "    <tr>\n",
              "      <th>...</th>\n",
              "      <td>...</td>\n",
              "      <td>...</td>\n",
              "      <td>...</td>\n",
              "      <td>...</td>\n",
              "      <td>...</td>\n",
              "      <td>...</td>\n",
              "      <td>...</td>\n",
              "      <td>...</td>\n",
              "      <td>...</td>\n",
              "      <td>...</td>\n",
              "    </tr>\n",
              "    <tr>\n",
              "      <th>93278</th>\n",
              "      <td>4</td>\n",
              "      <td>4.4</td>\n",
              "      <td>4.4.1</td>\n",
              "      <td>Proportion of youth and adults with informatio...</td>\n",
              "      <td>Egypt</td>\n",
              "      <td>2019</td>\n",
              "      <td>21.28713</td>\n",
              "      <td>BOTHSEX</td>\n",
              "      <td>NaN</td>\n",
              "      <td>EPRS</td>\n",
              "    </tr>\n",
              "    <tr>\n",
              "      <th>93279</th>\n",
              "      <td>4</td>\n",
              "      <td>4.4</td>\n",
              "      <td>4.4.1</td>\n",
              "      <td>Proportion of youth and adults with informatio...</td>\n",
              "      <td>Egypt</td>\n",
              "      <td>2019</td>\n",
              "      <td>18.58564</td>\n",
              "      <td>BOTHSEX</td>\n",
              "      <td>NaN</td>\n",
              "      <td>ARSP</td>\n",
              "    </tr>\n",
              "    <tr>\n",
              "      <th>93280</th>\n",
              "      <td>4</td>\n",
              "      <td>4.4</td>\n",
              "      <td>4.4.1</td>\n",
              "      <td>Proportion of youth and adults with informatio...</td>\n",
              "      <td>Egypt</td>\n",
              "      <td>2019</td>\n",
              "      <td>53.45752</td>\n",
              "      <td>BOTHSEX</td>\n",
              "      <td>NaN</td>\n",
              "      <td>INST</td>\n",
              "    </tr>\n",
              "    <tr>\n",
              "      <th>93281</th>\n",
              "      <td>4</td>\n",
              "      <td>4.4</td>\n",
              "      <td>4.4.1</td>\n",
              "      <td>Proportion of youth and adults with informatio...</td>\n",
              "      <td>Egypt</td>\n",
              "      <td>2019</td>\n",
              "      <td>58.80161</td>\n",
              "      <td>BOTHSEX</td>\n",
              "      <td>NaN</td>\n",
              "      <td>COPA</td>\n",
              "    </tr>\n",
              "    <tr>\n",
              "      <th>93282</th>\n",
              "      <td>4</td>\n",
              "      <td>4.4</td>\n",
              "      <td>4.4.1</td>\n",
              "      <td>Proportion of youth and adults with informatio...</td>\n",
              "      <td>Egypt</td>\n",
              "      <td>2019</td>\n",
              "      <td>7.85625</td>\n",
              "      <td>BOTHSEX</td>\n",
              "      <td>NaN</td>\n",
              "      <td>PCPR</td>\n",
              "    </tr>\n",
              "  </tbody>\n",
              "</table>\n",
              "<p>402 rows × 10 columns</p>\n",
              "</div>"
            ],
            "text/plain": [
              "       Goal Target Indicator  ...      Sex Education level  Type of skill\n",
              "89798     4    4.4     4.4.1  ...  BOTHSEX             NaN          EMAIL\n",
              "89799     4    4.4     4.4.1  ...  BOTHSEX             NaN           SOFT\n",
              "89800     4    4.4     4.4.1  ...  BOTHSEX             NaN           PCPR\n",
              "89801     4    4.4     4.4.1  ...  BOTHSEX             NaN           CMFL\n",
              "89802     4    4.4     4.4.1  ...  BOTHSEX             NaN           TRAF\n",
              "...     ...    ...       ...  ...      ...             ...            ...\n",
              "93278     4    4.4     4.4.1  ...  BOTHSEX             NaN           EPRS\n",
              "93279     4    4.4     4.4.1  ...  BOTHSEX             NaN           ARSP\n",
              "93280     4    4.4     4.4.1  ...  BOTHSEX             NaN           INST\n",
              "93281     4    4.4     4.4.1  ...  BOTHSEX             NaN           COPA\n",
              "93282     4    4.4     4.4.1  ...  BOTHSEX             NaN           PCPR\n",
              "\n",
              "[402 rows x 10 columns]"
            ]
          },
          "metadata": {
            "tags": []
          },
          "execution_count": 22
        }
      ]
    },
    {
      "cell_type": "code",
      "metadata": {
        "colab": {
          "base_uri": "https://localhost:8080/",
          "height": 806
        },
        "id": "vY8ill871WiM",
        "outputId": "46c2f1bd-a04b-4b08-fe10-9a064ae23290"
      },
      "source": [
        "#Calculating world dataframe\n",
        "world_df = df.loc[df['GeoAreaName'] == 'World']\n",
        "world_df"
      ],
      "execution_count": 23,
      "outputs": [
        {
          "output_type": "execute_result",
          "data": {
            "text/html": [
              "<div>\n",
              "<style scoped>\n",
              "    .dataframe tbody tr th:only-of-type {\n",
              "        vertical-align: middle;\n",
              "    }\n",
              "\n",
              "    .dataframe tbody tr th {\n",
              "        vertical-align: top;\n",
              "    }\n",
              "\n",
              "    .dataframe thead th {\n",
              "        text-align: right;\n",
              "    }\n",
              "</style>\n",
              "<table border=\"1\" class=\"dataframe\">\n",
              "  <thead>\n",
              "    <tr style=\"text-align: right;\">\n",
              "      <th></th>\n",
              "      <th>Goal</th>\n",
              "      <th>Target</th>\n",
              "      <th>Indicator</th>\n",
              "      <th>SeriesDescription</th>\n",
              "      <th>GeoAreaName</th>\n",
              "      <th>TimePeriod</th>\n",
              "      <th>Value</th>\n",
              "      <th>Sex</th>\n",
              "      <th>Education level</th>\n",
              "      <th>Type of skill</th>\n",
              "    </tr>\n",
              "  </thead>\n",
              "  <tbody>\n",
              "    <tr>\n",
              "      <th>80340</th>\n",
              "      <td>4</td>\n",
              "      <td>4.2</td>\n",
              "      <td>4.2.1</td>\n",
              "      <td>Proportion of children aged 36−59 months who a...</td>\n",
              "      <td>World</td>\n",
              "      <td>2020</td>\n",
              "      <td>70.700000</td>\n",
              "      <td>FEMALE</td>\n",
              "      <td>NaN</td>\n",
              "      <td>NaN</td>\n",
              "    </tr>\n",
              "    <tr>\n",
              "      <th>80341</th>\n",
              "      <td>4</td>\n",
              "      <td>4.2</td>\n",
              "      <td>4.2.1</td>\n",
              "      <td>Proportion of children aged 36−59 months who a...</td>\n",
              "      <td>World</td>\n",
              "      <td>2020</td>\n",
              "      <td>67.800000</td>\n",
              "      <td>MALE</td>\n",
              "      <td>NaN</td>\n",
              "      <td>NaN</td>\n",
              "    </tr>\n",
              "    <tr>\n",
              "      <th>80342</th>\n",
              "      <td>4</td>\n",
              "      <td>4.2</td>\n",
              "      <td>4.2.1</td>\n",
              "      <td>Proportion of children aged 36−59 months who a...</td>\n",
              "      <td>World</td>\n",
              "      <td>2020</td>\n",
              "      <td>71.500000</td>\n",
              "      <td>BOTHSEX</td>\n",
              "      <td>NaN</td>\n",
              "      <td>NaN</td>\n",
              "    </tr>\n",
              "    <tr>\n",
              "      <th>80584</th>\n",
              "      <td>4</td>\n",
              "      <td>4.2</td>\n",
              "      <td>4.2.2</td>\n",
              "      <td>Participation rate in organized learning (one ...</td>\n",
              "      <td>World</td>\n",
              "      <td>2007</td>\n",
              "      <td>59.783967</td>\n",
              "      <td>BOTHSEX</td>\n",
              "      <td>NaN</td>\n",
              "      <td>NaN</td>\n",
              "    </tr>\n",
              "    <tr>\n",
              "      <th>80585</th>\n",
              "      <td>4</td>\n",
              "      <td>4.2</td>\n",
              "      <td>4.2.2</td>\n",
              "      <td>Participation rate in organized learning (one ...</td>\n",
              "      <td>World</td>\n",
              "      <td>2008</td>\n",
              "      <td>60.409840</td>\n",
              "      <td>MALE</td>\n",
              "      <td>NaN</td>\n",
              "      <td>NaN</td>\n",
              "    </tr>\n",
              "    <tr>\n",
              "      <th>...</th>\n",
              "      <td>...</td>\n",
              "      <td>...</td>\n",
              "      <td>...</td>\n",
              "      <td>...</td>\n",
              "      <td>...</td>\n",
              "      <td>...</td>\n",
              "      <td>...</td>\n",
              "      <td>...</td>\n",
              "      <td>...</td>\n",
              "      <td>...</td>\n",
              "    </tr>\n",
              "    <tr>\n",
              "      <th>178244</th>\n",
              "      <td>4</td>\n",
              "      <td>4.c</td>\n",
              "      <td>4.c.1</td>\n",
              "      <td>Proportion of teachers who have received at le...</td>\n",
              "      <td>World</td>\n",
              "      <td>2017</td>\n",
              "      <td>87.801930</td>\n",
              "      <td>FEMALE</td>\n",
              "      <td>PRIMAR</td>\n",
              "      <td>NaN</td>\n",
              "    </tr>\n",
              "    <tr>\n",
              "      <th>178245</th>\n",
              "      <td>4</td>\n",
              "      <td>4.c</td>\n",
              "      <td>4.c.1</td>\n",
              "      <td>Proportion of teachers who have received at le...</td>\n",
              "      <td>World</td>\n",
              "      <td>2017</td>\n",
              "      <td>86.017360</td>\n",
              "      <td>BOTHSEX</td>\n",
              "      <td>SECOND</td>\n",
              "      <td>NaN</td>\n",
              "    </tr>\n",
              "    <tr>\n",
              "      <th>178246</th>\n",
              "      <td>4</td>\n",
              "      <td>4.c</td>\n",
              "      <td>4.c.1</td>\n",
              "      <td>Proportion of teachers who have received at le...</td>\n",
              "      <td>World</td>\n",
              "      <td>2018</td>\n",
              "      <td>87.243190</td>\n",
              "      <td>FEMALE</td>\n",
              "      <td>PRIMAR</td>\n",
              "      <td>NaN</td>\n",
              "    </tr>\n",
              "    <tr>\n",
              "      <th>178247</th>\n",
              "      <td>4</td>\n",
              "      <td>4.c</td>\n",
              "      <td>4.c.1</td>\n",
              "      <td>Proportion of teachers who have received at le...</td>\n",
              "      <td>World</td>\n",
              "      <td>2018</td>\n",
              "      <td>81.131110</td>\n",
              "      <td>MALE</td>\n",
              "      <td>PRIMAR</td>\n",
              "      <td>NaN</td>\n",
              "    </tr>\n",
              "    <tr>\n",
              "      <th>178248</th>\n",
              "      <td>4</td>\n",
              "      <td>4.c</td>\n",
              "      <td>4.c.1</td>\n",
              "      <td>Proportion of teachers who have received at le...</td>\n",
              "      <td>World</td>\n",
              "      <td>2018</td>\n",
              "      <td>85.176390</td>\n",
              "      <td>BOTHSEX</td>\n",
              "      <td>PRIMAR</td>\n",
              "      <td>NaN</td>\n",
              "    </tr>\n",
              "  </tbody>\n",
              "</table>\n",
              "<p>140 rows × 10 columns</p>\n",
              "</div>"
            ],
            "text/plain": [
              "        Goal Target Indicator  ...      Sex Education level  Type of skill\n",
              "80340      4    4.2     4.2.1  ...   FEMALE             NaN            NaN\n",
              "80341      4    4.2     4.2.1  ...     MALE             NaN            NaN\n",
              "80342      4    4.2     4.2.1  ...  BOTHSEX             NaN            NaN\n",
              "80584      4    4.2     4.2.2  ...  BOTHSEX             NaN            NaN\n",
              "80585      4    4.2     4.2.2  ...     MALE             NaN            NaN\n",
              "...      ...    ...       ...  ...      ...             ...            ...\n",
              "178244     4    4.c     4.c.1  ...   FEMALE          PRIMAR            NaN\n",
              "178245     4    4.c     4.c.1  ...  BOTHSEX          SECOND            NaN\n",
              "178246     4    4.c     4.c.1  ...   FEMALE          PRIMAR            NaN\n",
              "178247     4    4.c     4.c.1  ...     MALE          PRIMAR            NaN\n",
              "178248     4    4.c     4.c.1  ...  BOTHSEX          PRIMAR            NaN\n",
              "\n",
              "[140 rows x 10 columns]"
            ]
          },
          "metadata": {
            "tags": []
          },
          "execution_count": 23
        }
      ]
    },
    {
      "cell_type": "code",
      "metadata": {
        "colab": {
          "base_uri": "https://localhost:8080/",
          "height": 1000
        },
        "id": "iAi5Boyy1cwJ",
        "outputId": "2ac76fb3-abd8-408b-b0f4-5b915ad1b40e"
      },
      "source": [
        "#Female, Male data for the world\n",
        "options=['FEMALE', 'MALE']\n",
        "new_world = world_df[world_df['Sex'].isin(options)]\n",
        "new_world"
      ],
      "execution_count": 24,
      "outputs": [
        {
          "output_type": "execute_result",
          "data": {
            "text/html": [
              "<div>\n",
              "<style scoped>\n",
              "    .dataframe tbody tr th:only-of-type {\n",
              "        vertical-align: middle;\n",
              "    }\n",
              "\n",
              "    .dataframe tbody tr th {\n",
              "        vertical-align: top;\n",
              "    }\n",
              "\n",
              "    .dataframe thead th {\n",
              "        text-align: right;\n",
              "    }\n",
              "</style>\n",
              "<table border=\"1\" class=\"dataframe\">\n",
              "  <thead>\n",
              "    <tr style=\"text-align: right;\">\n",
              "      <th></th>\n",
              "      <th>Goal</th>\n",
              "      <th>Target</th>\n",
              "      <th>Indicator</th>\n",
              "      <th>SeriesDescription</th>\n",
              "      <th>GeoAreaName</th>\n",
              "      <th>TimePeriod</th>\n",
              "      <th>Value</th>\n",
              "      <th>Sex</th>\n",
              "      <th>Education level</th>\n",
              "      <th>Type of skill</th>\n",
              "    </tr>\n",
              "  </thead>\n",
              "  <tbody>\n",
              "    <tr>\n",
              "      <th>80340</th>\n",
              "      <td>4</td>\n",
              "      <td>4.2</td>\n",
              "      <td>4.2.1</td>\n",
              "      <td>Proportion of children aged 36−59 months who a...</td>\n",
              "      <td>World</td>\n",
              "      <td>2020</td>\n",
              "      <td>70.700000</td>\n",
              "      <td>FEMALE</td>\n",
              "      <td>NaN</td>\n",
              "      <td>NaN</td>\n",
              "    </tr>\n",
              "    <tr>\n",
              "      <th>80341</th>\n",
              "      <td>4</td>\n",
              "      <td>4.2</td>\n",
              "      <td>4.2.1</td>\n",
              "      <td>Proportion of children aged 36−59 months who a...</td>\n",
              "      <td>World</td>\n",
              "      <td>2020</td>\n",
              "      <td>67.800000</td>\n",
              "      <td>MALE</td>\n",
              "      <td>NaN</td>\n",
              "      <td>NaN</td>\n",
              "    </tr>\n",
              "    <tr>\n",
              "      <th>80585</th>\n",
              "      <td>4</td>\n",
              "      <td>4.2</td>\n",
              "      <td>4.2.2</td>\n",
              "      <td>Participation rate in organized learning (one ...</td>\n",
              "      <td>World</td>\n",
              "      <td>2008</td>\n",
              "      <td>60.409840</td>\n",
              "      <td>MALE</td>\n",
              "      <td>NaN</td>\n",
              "      <td>NaN</td>\n",
              "    </tr>\n",
              "    <tr>\n",
              "      <th>80586</th>\n",
              "      <td>4</td>\n",
              "      <td>4.2</td>\n",
              "      <td>4.2.2</td>\n",
              "      <td>Participation rate in organized learning (one ...</td>\n",
              "      <td>World</td>\n",
              "      <td>2008</td>\n",
              "      <td>59.979328</td>\n",
              "      <td>FEMALE</td>\n",
              "      <td>NaN</td>\n",
              "      <td>NaN</td>\n",
              "    </tr>\n",
              "    <tr>\n",
              "      <th>80588</th>\n",
              "      <td>4</td>\n",
              "      <td>4.2</td>\n",
              "      <td>4.2.2</td>\n",
              "      <td>Participation rate in organized learning (one ...</td>\n",
              "      <td>World</td>\n",
              "      <td>2009</td>\n",
              "      <td>61.065593</td>\n",
              "      <td>MALE</td>\n",
              "      <td>NaN</td>\n",
              "      <td>NaN</td>\n",
              "    </tr>\n",
              "    <tr>\n",
              "      <th>80589</th>\n",
              "      <td>4</td>\n",
              "      <td>4.2</td>\n",
              "      <td>4.2.2</td>\n",
              "      <td>Participation rate in organized learning (one ...</td>\n",
              "      <td>World</td>\n",
              "      <td>2009</td>\n",
              "      <td>60.669312</td>\n",
              "      <td>FEMALE</td>\n",
              "      <td>NaN</td>\n",
              "      <td>NaN</td>\n",
              "    </tr>\n",
              "    <tr>\n",
              "      <th>80592</th>\n",
              "      <td>4</td>\n",
              "      <td>4.2</td>\n",
              "      <td>4.2.2</td>\n",
              "      <td>Participation rate in organized learning (one ...</td>\n",
              "      <td>World</td>\n",
              "      <td>2010</td>\n",
              "      <td>62.111000</td>\n",
              "      <td>MALE</td>\n",
              "      <td>NaN</td>\n",
              "      <td>NaN</td>\n",
              "    </tr>\n",
              "    <tr>\n",
              "      <th>80593</th>\n",
              "      <td>4</td>\n",
              "      <td>4.2</td>\n",
              "      <td>4.2.2</td>\n",
              "      <td>Participation rate in organized learning (one ...</td>\n",
              "      <td>World</td>\n",
              "      <td>2010</td>\n",
              "      <td>61.701992</td>\n",
              "      <td>FEMALE</td>\n",
              "      <td>NaN</td>\n",
              "      <td>NaN</td>\n",
              "    </tr>\n",
              "    <tr>\n",
              "      <th>80594</th>\n",
              "      <td>4</td>\n",
              "      <td>4.2</td>\n",
              "      <td>4.2.2</td>\n",
              "      <td>Participation rate in organized learning (one ...</td>\n",
              "      <td>World</td>\n",
              "      <td>2011</td>\n",
              "      <td>62.944741</td>\n",
              "      <td>FEMALE</td>\n",
              "      <td>NaN</td>\n",
              "      <td>NaN</td>\n",
              "    </tr>\n",
              "    <tr>\n",
              "      <th>80595</th>\n",
              "      <td>4</td>\n",
              "      <td>4.2</td>\n",
              "      <td>4.2.2</td>\n",
              "      <td>Participation rate in organized learning (one ...</td>\n",
              "      <td>World</td>\n",
              "      <td>2011</td>\n",
              "      <td>63.520387</td>\n",
              "      <td>MALE</td>\n",
              "      <td>NaN</td>\n",
              "      <td>NaN</td>\n",
              "    </tr>\n",
              "    <tr>\n",
              "      <th>80597</th>\n",
              "      <td>4</td>\n",
              "      <td>4.2</td>\n",
              "      <td>4.2.2</td>\n",
              "      <td>Participation rate in organized learning (one ...</td>\n",
              "      <td>World</td>\n",
              "      <td>2012</td>\n",
              "      <td>64.854771</td>\n",
              "      <td>MALE</td>\n",
              "      <td>NaN</td>\n",
              "      <td>NaN</td>\n",
              "    </tr>\n",
              "    <tr>\n",
              "      <th>80599</th>\n",
              "      <td>4</td>\n",
              "      <td>4.2</td>\n",
              "      <td>4.2.2</td>\n",
              "      <td>Participation rate in organized learning (one ...</td>\n",
              "      <td>World</td>\n",
              "      <td>2012</td>\n",
              "      <td>64.382033</td>\n",
              "      <td>FEMALE</td>\n",
              "      <td>NaN</td>\n",
              "      <td>NaN</td>\n",
              "    </tr>\n",
              "    <tr>\n",
              "      <th>80600</th>\n",
              "      <td>4</td>\n",
              "      <td>4.2</td>\n",
              "      <td>4.2.2</td>\n",
              "      <td>Participation rate in organized learning (one ...</td>\n",
              "      <td>World</td>\n",
              "      <td>2013</td>\n",
              "      <td>65.210963</td>\n",
              "      <td>FEMALE</td>\n",
              "      <td>NaN</td>\n",
              "      <td>NaN</td>\n",
              "    </tr>\n",
              "    <tr>\n",
              "      <th>80602</th>\n",
              "      <td>4</td>\n",
              "      <td>4.2</td>\n",
              "      <td>4.2.2</td>\n",
              "      <td>Participation rate in organized learning (one ...</td>\n",
              "      <td>World</td>\n",
              "      <td>2013</td>\n",
              "      <td>65.684807</td>\n",
              "      <td>MALE</td>\n",
              "      <td>NaN</td>\n",
              "      <td>NaN</td>\n",
              "    </tr>\n",
              "    <tr>\n",
              "      <th>80604</th>\n",
              "      <td>4</td>\n",
              "      <td>4.2</td>\n",
              "      <td>4.2.2</td>\n",
              "      <td>Participation rate in organized learning (one ...</td>\n",
              "      <td>World</td>\n",
              "      <td>2014</td>\n",
              "      <td>65.962182</td>\n",
              "      <td>FEMALE</td>\n",
              "      <td>NaN</td>\n",
              "      <td>NaN</td>\n",
              "    </tr>\n",
              "    <tr>\n",
              "      <th>80605</th>\n",
              "      <td>4</td>\n",
              "      <td>4.2</td>\n",
              "      <td>4.2.2</td>\n",
              "      <td>Participation rate in organized learning (one ...</td>\n",
              "      <td>World</td>\n",
              "      <td>2014</td>\n",
              "      <td>66.703781</td>\n",
              "      <td>MALE</td>\n",
              "      <td>NaN</td>\n",
              "      <td>NaN</td>\n",
              "    </tr>\n",
              "    <tr>\n",
              "      <th>80606</th>\n",
              "      <td>4</td>\n",
              "      <td>4.2</td>\n",
              "      <td>4.2.2</td>\n",
              "      <td>Participation rate in organized learning (one ...</td>\n",
              "      <td>World</td>\n",
              "      <td>2015</td>\n",
              "      <td>66.473059</td>\n",
              "      <td>FEMALE</td>\n",
              "      <td>NaN</td>\n",
              "      <td>NaN</td>\n",
              "    </tr>\n",
              "    <tr>\n",
              "      <th>80608</th>\n",
              "      <td>4</td>\n",
              "      <td>4.2</td>\n",
              "      <td>4.2.2</td>\n",
              "      <td>Participation rate in organized learning (one ...</td>\n",
              "      <td>World</td>\n",
              "      <td>2015</td>\n",
              "      <td>67.199662</td>\n",
              "      <td>MALE</td>\n",
              "      <td>NaN</td>\n",
              "      <td>NaN</td>\n",
              "    </tr>\n",
              "    <tr>\n",
              "      <th>80609</th>\n",
              "      <td>4</td>\n",
              "      <td>4.2</td>\n",
              "      <td>4.2.2</td>\n",
              "      <td>Participation rate in organized learning (one ...</td>\n",
              "      <td>World</td>\n",
              "      <td>2016</td>\n",
              "      <td>66.891121</td>\n",
              "      <td>MALE</td>\n",
              "      <td>NaN</td>\n",
              "      <td>NaN</td>\n",
              "    </tr>\n",
              "    <tr>\n",
              "      <th>80610</th>\n",
              "      <td>4</td>\n",
              "      <td>4.2</td>\n",
              "      <td>4.2.2</td>\n",
              "      <td>Participation rate in organized learning (one ...</td>\n",
              "      <td>World</td>\n",
              "      <td>2016</td>\n",
              "      <td>66.626098</td>\n",
              "      <td>FEMALE</td>\n",
              "      <td>NaN</td>\n",
              "      <td>NaN</td>\n",
              "    </tr>\n",
              "    <tr>\n",
              "      <th>80613</th>\n",
              "      <td>4</td>\n",
              "      <td>4.2</td>\n",
              "      <td>4.2.2</td>\n",
              "      <td>Participation rate in organized learning (one ...</td>\n",
              "      <td>World</td>\n",
              "      <td>2017</td>\n",
              "      <td>66.606727</td>\n",
              "      <td>FEMALE</td>\n",
              "      <td>NaN</td>\n",
              "      <td>NaN</td>\n",
              "    </tr>\n",
              "    <tr>\n",
              "      <th>80614</th>\n",
              "      <td>4</td>\n",
              "      <td>4.2</td>\n",
              "      <td>4.2.2</td>\n",
              "      <td>Participation rate in organized learning (one ...</td>\n",
              "      <td>World</td>\n",
              "      <td>2017</td>\n",
              "      <td>66.907431</td>\n",
              "      <td>MALE</td>\n",
              "      <td>NaN</td>\n",
              "      <td>NaN</td>\n",
              "    </tr>\n",
              "    <tr>\n",
              "      <th>80615</th>\n",
              "      <td>4</td>\n",
              "      <td>4.2</td>\n",
              "      <td>4.2.2</td>\n",
              "      <td>Participation rate in organized learning (one ...</td>\n",
              "      <td>World</td>\n",
              "      <td>2018</td>\n",
              "      <td>67.305700</td>\n",
              "      <td>MALE</td>\n",
              "      <td>NaN</td>\n",
              "      <td>NaN</td>\n",
              "    </tr>\n",
              "    <tr>\n",
              "      <th>80616</th>\n",
              "      <td>4</td>\n",
              "      <td>4.2</td>\n",
              "      <td>4.2.2</td>\n",
              "      <td>Participation rate in organized learning (one ...</td>\n",
              "      <td>World</td>\n",
              "      <td>2018</td>\n",
              "      <td>67.023522</td>\n",
              "      <td>FEMALE</td>\n",
              "      <td>NaN</td>\n",
              "      <td>NaN</td>\n",
              "    </tr>\n",
              "    <tr>\n",
              "      <th>178227</th>\n",
              "      <td>4</td>\n",
              "      <td>4.c</td>\n",
              "      <td>4.c.1</td>\n",
              "      <td>Proportion of teachers who have received at le...</td>\n",
              "      <td>World</td>\n",
              "      <td>2013</td>\n",
              "      <td>82.563970</td>\n",
              "      <td>MALE</td>\n",
              "      <td>PRIMAR</td>\n",
              "      <td>NaN</td>\n",
              "    </tr>\n",
              "    <tr>\n",
              "      <th>178228</th>\n",
              "      <td>4</td>\n",
              "      <td>4.c</td>\n",
              "      <td>4.c.1</td>\n",
              "      <td>Proportion of teachers who have received at le...</td>\n",
              "      <td>World</td>\n",
              "      <td>2013</td>\n",
              "      <td>88.130330</td>\n",
              "      <td>FEMALE</td>\n",
              "      <td>PRIMAR</td>\n",
              "      <td>NaN</td>\n",
              "    </tr>\n",
              "    <tr>\n",
              "      <th>178231</th>\n",
              "      <td>4</td>\n",
              "      <td>4.c</td>\n",
              "      <td>4.c.1</td>\n",
              "      <td>Proportion of teachers who have received at le...</td>\n",
              "      <td>World</td>\n",
              "      <td>2014</td>\n",
              "      <td>87.675710</td>\n",
              "      <td>FEMALE</td>\n",
              "      <td>PRIMAR</td>\n",
              "      <td>NaN</td>\n",
              "    </tr>\n",
              "    <tr>\n",
              "      <th>178232</th>\n",
              "      <td>4</td>\n",
              "      <td>4.c</td>\n",
              "      <td>4.c.1</td>\n",
              "      <td>Proportion of teachers who have received at le...</td>\n",
              "      <td>World</td>\n",
              "      <td>2014</td>\n",
              "      <td>82.681860</td>\n",
              "      <td>MALE</td>\n",
              "      <td>PRIMAR</td>\n",
              "      <td>NaN</td>\n",
              "    </tr>\n",
              "    <tr>\n",
              "      <th>178234</th>\n",
              "      <td>4</td>\n",
              "      <td>4.c</td>\n",
              "      <td>4.c.1</td>\n",
              "      <td>Proportion of teachers who have received at le...</td>\n",
              "      <td>World</td>\n",
              "      <td>2015</td>\n",
              "      <td>81.411470</td>\n",
              "      <td>MALE</td>\n",
              "      <td>PRIMAR</td>\n",
              "      <td>NaN</td>\n",
              "    </tr>\n",
              "    <tr>\n",
              "      <th>178235</th>\n",
              "      <td>4</td>\n",
              "      <td>4.c</td>\n",
              "      <td>4.c.1</td>\n",
              "      <td>Proportion of teachers who have received at le...</td>\n",
              "      <td>World</td>\n",
              "      <td>2015</td>\n",
              "      <td>87.169870</td>\n",
              "      <td>FEMALE</td>\n",
              "      <td>PRIMAR</td>\n",
              "      <td>NaN</td>\n",
              "    </tr>\n",
              "    <tr>\n",
              "      <th>178236</th>\n",
              "      <td>4</td>\n",
              "      <td>4.c</td>\n",
              "      <td>4.c.1</td>\n",
              "      <td>Proportion of teachers who have received at le...</td>\n",
              "      <td>World</td>\n",
              "      <td>2016</td>\n",
              "      <td>87.058290</td>\n",
              "      <td>FEMALE</td>\n",
              "      <td>PRIMAR</td>\n",
              "      <td>NaN</td>\n",
              "    </tr>\n",
              "    <tr>\n",
              "      <th>178237</th>\n",
              "      <td>4</td>\n",
              "      <td>4.c</td>\n",
              "      <td>4.c.1</td>\n",
              "      <td>Proportion of teachers who have received at le...</td>\n",
              "      <td>World</td>\n",
              "      <td>2016</td>\n",
              "      <td>81.620770</td>\n",
              "      <td>MALE</td>\n",
              "      <td>PRIMAR</td>\n",
              "      <td>NaN</td>\n",
              "    </tr>\n",
              "    <tr>\n",
              "      <th>178239</th>\n",
              "      <td>4</td>\n",
              "      <td>4.c</td>\n",
              "      <td>4.c.1</td>\n",
              "      <td>Proportion of teachers who have received at le...</td>\n",
              "      <td>World</td>\n",
              "      <td>2016</td>\n",
              "      <td>85.223000</td>\n",
              "      <td>FEMALE</td>\n",
              "      <td>LOWSEC</td>\n",
              "      <td>NaN</td>\n",
              "    </tr>\n",
              "    <tr>\n",
              "      <th>178240</th>\n",
              "      <td>4</td>\n",
              "      <td>4.c</td>\n",
              "      <td>4.c.1</td>\n",
              "      <td>Proportion of teachers who have received at le...</td>\n",
              "      <td>World</td>\n",
              "      <td>2016</td>\n",
              "      <td>81.689340</td>\n",
              "      <td>MALE</td>\n",
              "      <td>LOWSEC</td>\n",
              "      <td>NaN</td>\n",
              "    </tr>\n",
              "    <tr>\n",
              "      <th>178243</th>\n",
              "      <td>4</td>\n",
              "      <td>4.c</td>\n",
              "      <td>4.c.1</td>\n",
              "      <td>Proportion of teachers who have received at le...</td>\n",
              "      <td>World</td>\n",
              "      <td>2017</td>\n",
              "      <td>82.157490</td>\n",
              "      <td>MALE</td>\n",
              "      <td>PRIMAR</td>\n",
              "      <td>NaN</td>\n",
              "    </tr>\n",
              "    <tr>\n",
              "      <th>178244</th>\n",
              "      <td>4</td>\n",
              "      <td>4.c</td>\n",
              "      <td>4.c.1</td>\n",
              "      <td>Proportion of teachers who have received at le...</td>\n",
              "      <td>World</td>\n",
              "      <td>2017</td>\n",
              "      <td>87.801930</td>\n",
              "      <td>FEMALE</td>\n",
              "      <td>PRIMAR</td>\n",
              "      <td>NaN</td>\n",
              "    </tr>\n",
              "    <tr>\n",
              "      <th>178246</th>\n",
              "      <td>4</td>\n",
              "      <td>4.c</td>\n",
              "      <td>4.c.1</td>\n",
              "      <td>Proportion of teachers who have received at le...</td>\n",
              "      <td>World</td>\n",
              "      <td>2018</td>\n",
              "      <td>87.243190</td>\n",
              "      <td>FEMALE</td>\n",
              "      <td>PRIMAR</td>\n",
              "      <td>NaN</td>\n",
              "    </tr>\n",
              "    <tr>\n",
              "      <th>178247</th>\n",
              "      <td>4</td>\n",
              "      <td>4.c</td>\n",
              "      <td>4.c.1</td>\n",
              "      <td>Proportion of teachers who have received at le...</td>\n",
              "      <td>World</td>\n",
              "      <td>2018</td>\n",
              "      <td>81.131110</td>\n",
              "      <td>MALE</td>\n",
              "      <td>PRIMAR</td>\n",
              "      <td>NaN</td>\n",
              "    </tr>\n",
              "  </tbody>\n",
              "</table>\n",
              "</div>"
            ],
            "text/plain": [
              "        Goal Target Indicator  ...     Sex Education level  Type of skill\n",
              "80340      4    4.2     4.2.1  ...  FEMALE             NaN            NaN\n",
              "80341      4    4.2     4.2.1  ...    MALE             NaN            NaN\n",
              "80585      4    4.2     4.2.2  ...    MALE             NaN            NaN\n",
              "80586      4    4.2     4.2.2  ...  FEMALE             NaN            NaN\n",
              "80588      4    4.2     4.2.2  ...    MALE             NaN            NaN\n",
              "80589      4    4.2     4.2.2  ...  FEMALE             NaN            NaN\n",
              "80592      4    4.2     4.2.2  ...    MALE             NaN            NaN\n",
              "80593      4    4.2     4.2.2  ...  FEMALE             NaN            NaN\n",
              "80594      4    4.2     4.2.2  ...  FEMALE             NaN            NaN\n",
              "80595      4    4.2     4.2.2  ...    MALE             NaN            NaN\n",
              "80597      4    4.2     4.2.2  ...    MALE             NaN            NaN\n",
              "80599      4    4.2     4.2.2  ...  FEMALE             NaN            NaN\n",
              "80600      4    4.2     4.2.2  ...  FEMALE             NaN            NaN\n",
              "80602      4    4.2     4.2.2  ...    MALE             NaN            NaN\n",
              "80604      4    4.2     4.2.2  ...  FEMALE             NaN            NaN\n",
              "80605      4    4.2     4.2.2  ...    MALE             NaN            NaN\n",
              "80606      4    4.2     4.2.2  ...  FEMALE             NaN            NaN\n",
              "80608      4    4.2     4.2.2  ...    MALE             NaN            NaN\n",
              "80609      4    4.2     4.2.2  ...    MALE             NaN            NaN\n",
              "80610      4    4.2     4.2.2  ...  FEMALE             NaN            NaN\n",
              "80613      4    4.2     4.2.2  ...  FEMALE             NaN            NaN\n",
              "80614      4    4.2     4.2.2  ...    MALE             NaN            NaN\n",
              "80615      4    4.2     4.2.2  ...    MALE             NaN            NaN\n",
              "80616      4    4.2     4.2.2  ...  FEMALE             NaN            NaN\n",
              "178227     4    4.c     4.c.1  ...    MALE          PRIMAR            NaN\n",
              "178228     4    4.c     4.c.1  ...  FEMALE          PRIMAR            NaN\n",
              "178231     4    4.c     4.c.1  ...  FEMALE          PRIMAR            NaN\n",
              "178232     4    4.c     4.c.1  ...    MALE          PRIMAR            NaN\n",
              "178234     4    4.c     4.c.1  ...    MALE          PRIMAR            NaN\n",
              "178235     4    4.c     4.c.1  ...  FEMALE          PRIMAR            NaN\n",
              "178236     4    4.c     4.c.1  ...  FEMALE          PRIMAR            NaN\n",
              "178237     4    4.c     4.c.1  ...    MALE          PRIMAR            NaN\n",
              "178239     4    4.c     4.c.1  ...  FEMALE          LOWSEC            NaN\n",
              "178240     4    4.c     4.c.1  ...    MALE          LOWSEC            NaN\n",
              "178243     4    4.c     4.c.1  ...    MALE          PRIMAR            NaN\n",
              "178244     4    4.c     4.c.1  ...  FEMALE          PRIMAR            NaN\n",
              "178246     4    4.c     4.c.1  ...  FEMALE          PRIMAR            NaN\n",
              "178247     4    4.c     4.c.1  ...    MALE          PRIMAR            NaN\n",
              "\n",
              "[38 rows x 10 columns]"
            ]
          },
          "metadata": {
            "tags": []
          },
          "execution_count": 24
        }
      ]
    },
    {
      "cell_type": "code",
      "metadata": {
        "colab": {
          "base_uri": "https://localhost:8080/",
          "height": 614
        },
        "id": "BTKSpyvGEYpD",
        "outputId": "04781c65-2562-4608-c1cf-334497251262"
      },
      "source": [
        "# calculating yearwise means for 144 countries and converting this to a DF\n",
        "yearwise_df_world = new_df.groupby([\"TimePeriod\", 'Sex']).mean()['Value']\n",
        "mean_yearwise_world = yearwise_df_world.to_frame(name='mean_values').reset_index()\n",
        "mean_yearwise_world"
      ],
      "execution_count": 25,
      "outputs": [
        {
          "output_type": "execute_result",
          "data": {
            "text/html": [
              "<div>\n",
              "<style scoped>\n",
              "    .dataframe tbody tr th:only-of-type {\n",
              "        vertical-align: middle;\n",
              "    }\n",
              "\n",
              "    .dataframe tbody tr th {\n",
              "        vertical-align: top;\n",
              "    }\n",
              "\n",
              "    .dataframe thead th {\n",
              "        text-align: right;\n",
              "    }\n",
              "</style>\n",
              "<table border=\"1\" class=\"dataframe\">\n",
              "  <thead>\n",
              "    <tr style=\"text-align: right;\">\n",
              "      <th></th>\n",
              "      <th>TimePeriod</th>\n",
              "      <th>Sex</th>\n",
              "      <th>mean_values</th>\n",
              "    </tr>\n",
              "  </thead>\n",
              "  <tbody>\n",
              "    <tr>\n",
              "      <th>0</th>\n",
              "      <td>2014</td>\n",
              "      <td>BOTHSEX</td>\n",
              "      <td>36.840304</td>\n",
              "    </tr>\n",
              "    <tr>\n",
              "      <th>1</th>\n",
              "      <td>2014</td>\n",
              "      <td>FEMALE</td>\n",
              "      <td>35.825799</td>\n",
              "    </tr>\n",
              "    <tr>\n",
              "      <th>2</th>\n",
              "      <td>2014</td>\n",
              "      <td>MALE</td>\n",
              "      <td>42.559776</td>\n",
              "    </tr>\n",
              "    <tr>\n",
              "      <th>3</th>\n",
              "      <td>2015</td>\n",
              "      <td>BOTHSEX</td>\n",
              "      <td>33.297050</td>\n",
              "    </tr>\n",
              "    <tr>\n",
              "      <th>4</th>\n",
              "      <td>2015</td>\n",
              "      <td>FEMALE</td>\n",
              "      <td>32.961191</td>\n",
              "    </tr>\n",
              "    <tr>\n",
              "      <th>5</th>\n",
              "      <td>2015</td>\n",
              "      <td>MALE</td>\n",
              "      <td>38.501645</td>\n",
              "    </tr>\n",
              "    <tr>\n",
              "      <th>6</th>\n",
              "      <td>2016</td>\n",
              "      <td>BOTHSEX</td>\n",
              "      <td>34.611584</td>\n",
              "    </tr>\n",
              "    <tr>\n",
              "      <th>7</th>\n",
              "      <td>2016</td>\n",
              "      <td>FEMALE</td>\n",
              "      <td>32.383440</td>\n",
              "    </tr>\n",
              "    <tr>\n",
              "      <th>8</th>\n",
              "      <td>2016</td>\n",
              "      <td>MALE</td>\n",
              "      <td>37.430316</td>\n",
              "    </tr>\n",
              "    <tr>\n",
              "      <th>9</th>\n",
              "      <td>2017</td>\n",
              "      <td>BOTHSEX</td>\n",
              "      <td>32.362798</td>\n",
              "    </tr>\n",
              "    <tr>\n",
              "      <th>10</th>\n",
              "      <td>2017</td>\n",
              "      <td>FEMALE</td>\n",
              "      <td>29.424682</td>\n",
              "    </tr>\n",
              "    <tr>\n",
              "      <th>11</th>\n",
              "      <td>2017</td>\n",
              "      <td>MALE</td>\n",
              "      <td>34.571972</td>\n",
              "    </tr>\n",
              "    <tr>\n",
              "      <th>12</th>\n",
              "      <td>2018</td>\n",
              "      <td>BOTHSEX</td>\n",
              "      <td>29.010649</td>\n",
              "    </tr>\n",
              "    <tr>\n",
              "      <th>13</th>\n",
              "      <td>2018</td>\n",
              "      <td>FEMALE</td>\n",
              "      <td>22.443643</td>\n",
              "    </tr>\n",
              "    <tr>\n",
              "      <th>14</th>\n",
              "      <td>2018</td>\n",
              "      <td>MALE</td>\n",
              "      <td>27.340885</td>\n",
              "    </tr>\n",
              "    <tr>\n",
              "      <th>15</th>\n",
              "      <td>2019</td>\n",
              "      <td>BOTHSEX</td>\n",
              "      <td>34.107216</td>\n",
              "    </tr>\n",
              "    <tr>\n",
              "      <th>16</th>\n",
              "      <td>2019</td>\n",
              "      <td>FEMALE</td>\n",
              "      <td>26.892959</td>\n",
              "    </tr>\n",
              "    <tr>\n",
              "      <th>17</th>\n",
              "      <td>2019</td>\n",
              "      <td>MALE</td>\n",
              "      <td>30.963739</td>\n",
              "    </tr>\n",
              "  </tbody>\n",
              "</table>\n",
              "</div>"
            ],
            "text/plain": [
              "    TimePeriod      Sex  mean_values\n",
              "0         2014  BOTHSEX    36.840304\n",
              "1         2014   FEMALE    35.825799\n",
              "2         2014     MALE    42.559776\n",
              "3         2015  BOTHSEX    33.297050\n",
              "4         2015   FEMALE    32.961191\n",
              "5         2015     MALE    38.501645\n",
              "6         2016  BOTHSEX    34.611584\n",
              "7         2016   FEMALE    32.383440\n",
              "8         2016     MALE    37.430316\n",
              "9         2017  BOTHSEX    32.362798\n",
              "10        2017   FEMALE    29.424682\n",
              "11        2017     MALE    34.571972\n",
              "12        2018  BOTHSEX    29.010649\n",
              "13        2018   FEMALE    22.443643\n",
              "14        2018     MALE    27.340885\n",
              "15        2019  BOTHSEX    34.107216\n",
              "16        2019   FEMALE    26.892959\n",
              "17        2019     MALE    30.963739"
            ]
          },
          "metadata": {
            "tags": []
          },
          "execution_count": 25
        }
      ]
    },
    {
      "cell_type": "code",
      "metadata": {
        "colab": {
          "base_uri": "https://localhost:8080/",
          "height": 206
        },
        "id": "plZrAqLSFExa",
        "outputId": "b7fe7437-d65a-4092-bffd-375874239cd4"
      },
      "source": [
        "#Calculating mean for female for 144 countries\n",
        "world_female_mean_1 = mean_yearwise_world[(mean_yearwise_world['Sex']=='FEMALE') & (mean_yearwise_world['TimePeriod']!=2019)]\n",
        "world_female_mean_1"
      ],
      "execution_count": 30,
      "outputs": [
        {
          "output_type": "execute_result",
          "data": {
            "text/html": [
              "<div>\n",
              "<style scoped>\n",
              "    .dataframe tbody tr th:only-of-type {\n",
              "        vertical-align: middle;\n",
              "    }\n",
              "\n",
              "    .dataframe tbody tr th {\n",
              "        vertical-align: top;\n",
              "    }\n",
              "\n",
              "    .dataframe thead th {\n",
              "        text-align: right;\n",
              "    }\n",
              "</style>\n",
              "<table border=\"1\" class=\"dataframe\">\n",
              "  <thead>\n",
              "    <tr style=\"text-align: right;\">\n",
              "      <th></th>\n",
              "      <th>TimePeriod</th>\n",
              "      <th>Sex</th>\n",
              "      <th>mean_values</th>\n",
              "    </tr>\n",
              "  </thead>\n",
              "  <tbody>\n",
              "    <tr>\n",
              "      <th>1</th>\n",
              "      <td>2014</td>\n",
              "      <td>FEMALE</td>\n",
              "      <td>35.825799</td>\n",
              "    </tr>\n",
              "    <tr>\n",
              "      <th>4</th>\n",
              "      <td>2015</td>\n",
              "      <td>FEMALE</td>\n",
              "      <td>32.961191</td>\n",
              "    </tr>\n",
              "    <tr>\n",
              "      <th>7</th>\n",
              "      <td>2016</td>\n",
              "      <td>FEMALE</td>\n",
              "      <td>32.383440</td>\n",
              "    </tr>\n",
              "    <tr>\n",
              "      <th>10</th>\n",
              "      <td>2017</td>\n",
              "      <td>FEMALE</td>\n",
              "      <td>29.424682</td>\n",
              "    </tr>\n",
              "    <tr>\n",
              "      <th>13</th>\n",
              "      <td>2018</td>\n",
              "      <td>FEMALE</td>\n",
              "      <td>22.443643</td>\n",
              "    </tr>\n",
              "  </tbody>\n",
              "</table>\n",
              "</div>"
            ],
            "text/plain": [
              "    TimePeriod     Sex  mean_values\n",
              "1         2014  FEMALE    35.825799\n",
              "4         2015  FEMALE    32.961191\n",
              "7         2016  FEMALE    32.383440\n",
              "10        2017  FEMALE    29.424682\n",
              "13        2018  FEMALE    22.443643"
            ]
          },
          "metadata": {
            "tags": []
          },
          "execution_count": 30
        }
      ]
    },
    {
      "cell_type": "code",
      "metadata": {
        "colab": {
          "base_uri": "https://localhost:8080/",
          "height": 206
        },
        "id": "ZROc2ORHFUHU",
        "outputId": "4bf8b56a-fd0a-46f8-bc98-8819d83881fb"
      },
      "source": [
        "#Calculating mean for male for 144 countries\n",
        "world_male_mean_1 = mean_yearwise_world[(mean_yearwise_world['Sex']=='MALE') & (mean_yearwise_world['TimePeriod']!=2019)]\n",
        "world_male_mean_1"
      ],
      "execution_count": 31,
      "outputs": [
        {
          "output_type": "execute_result",
          "data": {
            "text/html": [
              "<div>\n",
              "<style scoped>\n",
              "    .dataframe tbody tr th:only-of-type {\n",
              "        vertical-align: middle;\n",
              "    }\n",
              "\n",
              "    .dataframe tbody tr th {\n",
              "        vertical-align: top;\n",
              "    }\n",
              "\n",
              "    .dataframe thead th {\n",
              "        text-align: right;\n",
              "    }\n",
              "</style>\n",
              "<table border=\"1\" class=\"dataframe\">\n",
              "  <thead>\n",
              "    <tr style=\"text-align: right;\">\n",
              "      <th></th>\n",
              "      <th>TimePeriod</th>\n",
              "      <th>Sex</th>\n",
              "      <th>mean_values</th>\n",
              "    </tr>\n",
              "  </thead>\n",
              "  <tbody>\n",
              "    <tr>\n",
              "      <th>2</th>\n",
              "      <td>2014</td>\n",
              "      <td>MALE</td>\n",
              "      <td>42.559776</td>\n",
              "    </tr>\n",
              "    <tr>\n",
              "      <th>5</th>\n",
              "      <td>2015</td>\n",
              "      <td>MALE</td>\n",
              "      <td>38.501645</td>\n",
              "    </tr>\n",
              "    <tr>\n",
              "      <th>8</th>\n",
              "      <td>2016</td>\n",
              "      <td>MALE</td>\n",
              "      <td>37.430316</td>\n",
              "    </tr>\n",
              "    <tr>\n",
              "      <th>11</th>\n",
              "      <td>2017</td>\n",
              "      <td>MALE</td>\n",
              "      <td>34.571972</td>\n",
              "    </tr>\n",
              "    <tr>\n",
              "      <th>14</th>\n",
              "      <td>2018</td>\n",
              "      <td>MALE</td>\n",
              "      <td>27.340885</td>\n",
              "    </tr>\n",
              "  </tbody>\n",
              "</table>\n",
              "</div>"
            ],
            "text/plain": [
              "    TimePeriod   Sex  mean_values\n",
              "2         2014  MALE    42.559776\n",
              "5         2015  MALE    38.501645\n",
              "8         2016  MALE    37.430316\n",
              "11        2017  MALE    34.571972\n",
              "14        2018  MALE    27.340885"
            ]
          },
          "metadata": {
            "tags": []
          },
          "execution_count": 31
        }
      ]
    },
    {
      "cell_type": "code",
      "metadata": {
        "colab": {
          "base_uri": "https://localhost:8080/",
          "height": 206
        },
        "id": "OCWNX7MNFeq2",
        "outputId": "3232e797-030c-4057-c536-2c8d8825db53"
      },
      "source": [
        "#Calculating mean for bothsex for 144 countries\n",
        "world_both_mean_1 = mean_yearwise_world[(mean_yearwise_world['Sex']=='BOTHSEX') & (mean_yearwise_world['TimePeriod']!=2019)]\n",
        "world_both_mean_1"
      ],
      "execution_count": 32,
      "outputs": [
        {
          "output_type": "execute_result",
          "data": {
            "text/html": [
              "<div>\n",
              "<style scoped>\n",
              "    .dataframe tbody tr th:only-of-type {\n",
              "        vertical-align: middle;\n",
              "    }\n",
              "\n",
              "    .dataframe tbody tr th {\n",
              "        vertical-align: top;\n",
              "    }\n",
              "\n",
              "    .dataframe thead th {\n",
              "        text-align: right;\n",
              "    }\n",
              "</style>\n",
              "<table border=\"1\" class=\"dataframe\">\n",
              "  <thead>\n",
              "    <tr style=\"text-align: right;\">\n",
              "      <th></th>\n",
              "      <th>TimePeriod</th>\n",
              "      <th>Sex</th>\n",
              "      <th>mean_values</th>\n",
              "    </tr>\n",
              "  </thead>\n",
              "  <tbody>\n",
              "    <tr>\n",
              "      <th>0</th>\n",
              "      <td>2014</td>\n",
              "      <td>BOTHSEX</td>\n",
              "      <td>36.840304</td>\n",
              "    </tr>\n",
              "    <tr>\n",
              "      <th>3</th>\n",
              "      <td>2015</td>\n",
              "      <td>BOTHSEX</td>\n",
              "      <td>33.297050</td>\n",
              "    </tr>\n",
              "    <tr>\n",
              "      <th>6</th>\n",
              "      <td>2016</td>\n",
              "      <td>BOTHSEX</td>\n",
              "      <td>34.611584</td>\n",
              "    </tr>\n",
              "    <tr>\n",
              "      <th>9</th>\n",
              "      <td>2017</td>\n",
              "      <td>BOTHSEX</td>\n",
              "      <td>32.362798</td>\n",
              "    </tr>\n",
              "    <tr>\n",
              "      <th>12</th>\n",
              "      <td>2018</td>\n",
              "      <td>BOTHSEX</td>\n",
              "      <td>29.010649</td>\n",
              "    </tr>\n",
              "  </tbody>\n",
              "</table>\n",
              "</div>"
            ],
            "text/plain": [
              "    TimePeriod      Sex  mean_values\n",
              "0         2014  BOTHSEX    36.840304\n",
              "3         2015  BOTHSEX    33.297050\n",
              "6         2016  BOTHSEX    34.611584\n",
              "9         2017  BOTHSEX    32.362798\n",
              "12        2018  BOTHSEX    29.010649"
            ]
          },
          "metadata": {
            "tags": []
          },
          "execution_count": 32
        }
      ]
    },
    {
      "cell_type": "code",
      "metadata": {
        "colab": {
          "base_uri": "https://localhost:8080/",
          "height": 614
        },
        "id": "kq7b7A4aIosy",
        "outputId": "9d171293-adef-46d8-9a8f-11d862dce7d7"
      },
      "source": [
        "# calculating yearwise means for 10 countries and converting this to a DF\n",
        "yearwise_df = rslt_df.groupby([\"TimePeriod\", 'Sex']).mean()['Value']\n",
        "mean_yearwise_selected = yearwise_df.to_frame(name='mean_values').reset_index()\n",
        "mean_yearwise_selected"
      ],
      "execution_count": 33,
      "outputs": [
        {
          "output_type": "execute_result",
          "data": {
            "text/html": [
              "<div>\n",
              "<style scoped>\n",
              "    .dataframe tbody tr th:only-of-type {\n",
              "        vertical-align: middle;\n",
              "    }\n",
              "\n",
              "    .dataframe tbody tr th {\n",
              "        vertical-align: top;\n",
              "    }\n",
              "\n",
              "    .dataframe thead th {\n",
              "        text-align: right;\n",
              "    }\n",
              "</style>\n",
              "<table border=\"1\" class=\"dataframe\">\n",
              "  <thead>\n",
              "    <tr style=\"text-align: right;\">\n",
              "      <th></th>\n",
              "      <th>TimePeriod</th>\n",
              "      <th>Sex</th>\n",
              "      <th>mean_values</th>\n",
              "    </tr>\n",
              "  </thead>\n",
              "  <tbody>\n",
              "    <tr>\n",
              "      <th>0</th>\n",
              "      <td>2014</td>\n",
              "      <td>BOTHSEX</td>\n",
              "      <td>19.892249</td>\n",
              "    </tr>\n",
              "    <tr>\n",
              "      <th>1</th>\n",
              "      <td>2014</td>\n",
              "      <td>FEMALE</td>\n",
              "      <td>15.879698</td>\n",
              "    </tr>\n",
              "    <tr>\n",
              "      <th>2</th>\n",
              "      <td>2014</td>\n",
              "      <td>MALE</td>\n",
              "      <td>18.752209</td>\n",
              "    </tr>\n",
              "    <tr>\n",
              "      <th>3</th>\n",
              "      <td>2015</td>\n",
              "      <td>BOTHSEX</td>\n",
              "      <td>15.465932</td>\n",
              "    </tr>\n",
              "    <tr>\n",
              "      <th>4</th>\n",
              "      <td>2015</td>\n",
              "      <td>FEMALE</td>\n",
              "      <td>13.114311</td>\n",
              "    </tr>\n",
              "    <tr>\n",
              "      <th>5</th>\n",
              "      <td>2015</td>\n",
              "      <td>MALE</td>\n",
              "      <td>16.145639</td>\n",
              "    </tr>\n",
              "    <tr>\n",
              "      <th>6</th>\n",
              "      <td>2016</td>\n",
              "      <td>BOTHSEX</td>\n",
              "      <td>20.434951</td>\n",
              "    </tr>\n",
              "    <tr>\n",
              "      <th>7</th>\n",
              "      <td>2016</td>\n",
              "      <td>FEMALE</td>\n",
              "      <td>17.530325</td>\n",
              "    </tr>\n",
              "    <tr>\n",
              "      <th>8</th>\n",
              "      <td>2016</td>\n",
              "      <td>MALE</td>\n",
              "      <td>23.381060</td>\n",
              "    </tr>\n",
              "    <tr>\n",
              "      <th>9</th>\n",
              "      <td>2017</td>\n",
              "      <td>BOTHSEX</td>\n",
              "      <td>25.241145</td>\n",
              "    </tr>\n",
              "    <tr>\n",
              "      <th>10</th>\n",
              "      <td>2017</td>\n",
              "      <td>FEMALE</td>\n",
              "      <td>26.511419</td>\n",
              "    </tr>\n",
              "    <tr>\n",
              "      <th>11</th>\n",
              "      <td>2017</td>\n",
              "      <td>MALE</td>\n",
              "      <td>32.818014</td>\n",
              "    </tr>\n",
              "    <tr>\n",
              "      <th>12</th>\n",
              "      <td>2018</td>\n",
              "      <td>BOTHSEX</td>\n",
              "      <td>27.770417</td>\n",
              "    </tr>\n",
              "    <tr>\n",
              "      <th>13</th>\n",
              "      <td>2018</td>\n",
              "      <td>FEMALE</td>\n",
              "      <td>16.728139</td>\n",
              "    </tr>\n",
              "    <tr>\n",
              "      <th>14</th>\n",
              "      <td>2018</td>\n",
              "      <td>MALE</td>\n",
              "      <td>30.426548</td>\n",
              "    </tr>\n",
              "    <tr>\n",
              "      <th>15</th>\n",
              "      <td>2019</td>\n",
              "      <td>BOTHSEX</td>\n",
              "      <td>25.504799</td>\n",
              "    </tr>\n",
              "    <tr>\n",
              "      <th>16</th>\n",
              "      <td>2019</td>\n",
              "      <td>FEMALE</td>\n",
              "      <td>23.335011</td>\n",
              "    </tr>\n",
              "    <tr>\n",
              "      <th>17</th>\n",
              "      <td>2019</td>\n",
              "      <td>MALE</td>\n",
              "      <td>29.677898</td>\n",
              "    </tr>\n",
              "  </tbody>\n",
              "</table>\n",
              "</div>"
            ],
            "text/plain": [
              "    TimePeriod      Sex  mean_values\n",
              "0         2014  BOTHSEX    19.892249\n",
              "1         2014   FEMALE    15.879698\n",
              "2         2014     MALE    18.752209\n",
              "3         2015  BOTHSEX    15.465932\n",
              "4         2015   FEMALE    13.114311\n",
              "5         2015     MALE    16.145639\n",
              "6         2016  BOTHSEX    20.434951\n",
              "7         2016   FEMALE    17.530325\n",
              "8         2016     MALE    23.381060\n",
              "9         2017  BOTHSEX    25.241145\n",
              "10        2017   FEMALE    26.511419\n",
              "11        2017     MALE    32.818014\n",
              "12        2018  BOTHSEX    27.770417\n",
              "13        2018   FEMALE    16.728139\n",
              "14        2018     MALE    30.426548\n",
              "15        2019  BOTHSEX    25.504799\n",
              "16        2019   FEMALE    23.335011\n",
              "17        2019     MALE    29.677898"
            ]
          },
          "metadata": {
            "tags": []
          },
          "execution_count": 33
        }
      ]
    },
    {
      "cell_type": "code",
      "metadata": {
        "colab": {
          "base_uri": "https://localhost:8080/",
          "height": 206
        },
        "id": "zRt0y8O8Iv2d",
        "outputId": "886a64c8-6e1d-4561-985b-abaf94b85dea"
      },
      "source": [
        "#Analysis trends for female in the ICT skills for selected 10 countries\n",
        "female_mean_selected = mean_yearwise_selected[(mean_yearwise_selected['Sex']=='FEMALE') & (mean_yearwise_selected['TimePeriod']!=2019)]\n",
        "female_mean_selected"
      ],
      "execution_count": 34,
      "outputs": [
        {
          "output_type": "execute_result",
          "data": {
            "text/html": [
              "<div>\n",
              "<style scoped>\n",
              "    .dataframe tbody tr th:only-of-type {\n",
              "        vertical-align: middle;\n",
              "    }\n",
              "\n",
              "    .dataframe tbody tr th {\n",
              "        vertical-align: top;\n",
              "    }\n",
              "\n",
              "    .dataframe thead th {\n",
              "        text-align: right;\n",
              "    }\n",
              "</style>\n",
              "<table border=\"1\" class=\"dataframe\">\n",
              "  <thead>\n",
              "    <tr style=\"text-align: right;\">\n",
              "      <th></th>\n",
              "      <th>TimePeriod</th>\n",
              "      <th>Sex</th>\n",
              "      <th>mean_values</th>\n",
              "    </tr>\n",
              "  </thead>\n",
              "  <tbody>\n",
              "    <tr>\n",
              "      <th>1</th>\n",
              "      <td>2014</td>\n",
              "      <td>FEMALE</td>\n",
              "      <td>15.879698</td>\n",
              "    </tr>\n",
              "    <tr>\n",
              "      <th>4</th>\n",
              "      <td>2015</td>\n",
              "      <td>FEMALE</td>\n",
              "      <td>13.114311</td>\n",
              "    </tr>\n",
              "    <tr>\n",
              "      <th>7</th>\n",
              "      <td>2016</td>\n",
              "      <td>FEMALE</td>\n",
              "      <td>17.530325</td>\n",
              "    </tr>\n",
              "    <tr>\n",
              "      <th>10</th>\n",
              "      <td>2017</td>\n",
              "      <td>FEMALE</td>\n",
              "      <td>26.511419</td>\n",
              "    </tr>\n",
              "    <tr>\n",
              "      <th>13</th>\n",
              "      <td>2018</td>\n",
              "      <td>FEMALE</td>\n",
              "      <td>16.728139</td>\n",
              "    </tr>\n",
              "  </tbody>\n",
              "</table>\n",
              "</div>"
            ],
            "text/plain": [
              "    TimePeriod     Sex  mean_values\n",
              "1         2014  FEMALE    15.879698\n",
              "4         2015  FEMALE    13.114311\n",
              "7         2016  FEMALE    17.530325\n",
              "10        2017  FEMALE    26.511419\n",
              "13        2018  FEMALE    16.728139"
            ]
          },
          "metadata": {
            "tags": []
          },
          "execution_count": 34
        }
      ]
    },
    {
      "cell_type": "code",
      "metadata": {
        "colab": {
          "base_uri": "https://localhost:8080/",
          "height": 206
        },
        "id": "-ytU5mgEI2zZ",
        "outputId": "50efe761-3c23-4533-ff75-0d4c9fd78301"
      },
      "source": [
        "#Analysis trends for male in the ICT skills for selected 10 countries\n",
        "male_mean_selected = mean_yearwise_selected[(mean_yearwise_selected['Sex']=='MALE') & (mean_yearwise_selected['TimePeriod']!=2019)]\n",
        "male_mean_selected"
      ],
      "execution_count": 35,
      "outputs": [
        {
          "output_type": "execute_result",
          "data": {
            "text/html": [
              "<div>\n",
              "<style scoped>\n",
              "    .dataframe tbody tr th:only-of-type {\n",
              "        vertical-align: middle;\n",
              "    }\n",
              "\n",
              "    .dataframe tbody tr th {\n",
              "        vertical-align: top;\n",
              "    }\n",
              "\n",
              "    .dataframe thead th {\n",
              "        text-align: right;\n",
              "    }\n",
              "</style>\n",
              "<table border=\"1\" class=\"dataframe\">\n",
              "  <thead>\n",
              "    <tr style=\"text-align: right;\">\n",
              "      <th></th>\n",
              "      <th>TimePeriod</th>\n",
              "      <th>Sex</th>\n",
              "      <th>mean_values</th>\n",
              "    </tr>\n",
              "  </thead>\n",
              "  <tbody>\n",
              "    <tr>\n",
              "      <th>2</th>\n",
              "      <td>2014</td>\n",
              "      <td>MALE</td>\n",
              "      <td>18.752209</td>\n",
              "    </tr>\n",
              "    <tr>\n",
              "      <th>5</th>\n",
              "      <td>2015</td>\n",
              "      <td>MALE</td>\n",
              "      <td>16.145639</td>\n",
              "    </tr>\n",
              "    <tr>\n",
              "      <th>8</th>\n",
              "      <td>2016</td>\n",
              "      <td>MALE</td>\n",
              "      <td>23.381060</td>\n",
              "    </tr>\n",
              "    <tr>\n",
              "      <th>11</th>\n",
              "      <td>2017</td>\n",
              "      <td>MALE</td>\n",
              "      <td>32.818014</td>\n",
              "    </tr>\n",
              "    <tr>\n",
              "      <th>14</th>\n",
              "      <td>2018</td>\n",
              "      <td>MALE</td>\n",
              "      <td>30.426548</td>\n",
              "    </tr>\n",
              "  </tbody>\n",
              "</table>\n",
              "</div>"
            ],
            "text/plain": [
              "    TimePeriod   Sex  mean_values\n",
              "2         2014  MALE    18.752209\n",
              "5         2015  MALE    16.145639\n",
              "8         2016  MALE    23.381060\n",
              "11        2017  MALE    32.818014\n",
              "14        2018  MALE    30.426548"
            ]
          },
          "metadata": {
            "tags": []
          },
          "execution_count": 35
        }
      ]
    },
    {
      "cell_type": "code",
      "metadata": {
        "colab": {
          "base_uri": "https://localhost:8080/",
          "height": 206
        },
        "id": "1_i_6J50JHqw",
        "outputId": "7f8624a1-6147-48e7-f3f4-dfe6c907d291"
      },
      "source": [
        "#Analysis trends for Bothsex in the ICT skills for selected 10 countries\n",
        "both_mean_selected = mean_yearwise_selected[(mean_yearwise_selected['Sex']=='BOTHSEX') & (mean_yearwise_selected['TimePeriod']!=2019)]\n",
        "both_mean_selected"
      ],
      "execution_count": 36,
      "outputs": [
        {
          "output_type": "execute_result",
          "data": {
            "text/html": [
              "<div>\n",
              "<style scoped>\n",
              "    .dataframe tbody tr th:only-of-type {\n",
              "        vertical-align: middle;\n",
              "    }\n",
              "\n",
              "    .dataframe tbody tr th {\n",
              "        vertical-align: top;\n",
              "    }\n",
              "\n",
              "    .dataframe thead th {\n",
              "        text-align: right;\n",
              "    }\n",
              "</style>\n",
              "<table border=\"1\" class=\"dataframe\">\n",
              "  <thead>\n",
              "    <tr style=\"text-align: right;\">\n",
              "      <th></th>\n",
              "      <th>TimePeriod</th>\n",
              "      <th>Sex</th>\n",
              "      <th>mean_values</th>\n",
              "    </tr>\n",
              "  </thead>\n",
              "  <tbody>\n",
              "    <tr>\n",
              "      <th>0</th>\n",
              "      <td>2014</td>\n",
              "      <td>BOTHSEX</td>\n",
              "      <td>19.892249</td>\n",
              "    </tr>\n",
              "    <tr>\n",
              "      <th>3</th>\n",
              "      <td>2015</td>\n",
              "      <td>BOTHSEX</td>\n",
              "      <td>15.465932</td>\n",
              "    </tr>\n",
              "    <tr>\n",
              "      <th>6</th>\n",
              "      <td>2016</td>\n",
              "      <td>BOTHSEX</td>\n",
              "      <td>20.434951</td>\n",
              "    </tr>\n",
              "    <tr>\n",
              "      <th>9</th>\n",
              "      <td>2017</td>\n",
              "      <td>BOTHSEX</td>\n",
              "      <td>25.241145</td>\n",
              "    </tr>\n",
              "    <tr>\n",
              "      <th>12</th>\n",
              "      <td>2018</td>\n",
              "      <td>BOTHSEX</td>\n",
              "      <td>27.770417</td>\n",
              "    </tr>\n",
              "  </tbody>\n",
              "</table>\n",
              "</div>"
            ],
            "text/plain": [
              "    TimePeriod      Sex  mean_values\n",
              "0         2014  BOTHSEX    19.892249\n",
              "3         2015  BOTHSEX    15.465932\n",
              "6         2016  BOTHSEX    20.434951\n",
              "9         2017  BOTHSEX    25.241145\n",
              "12        2018  BOTHSEX    27.770417"
            ]
          },
          "metadata": {
            "tags": []
          },
          "execution_count": 36
        }
      ]
    },
    {
      "cell_type": "code",
      "metadata": {
        "colab": {
          "base_uri": "https://localhost:8080/",
          "height": 355
        },
        "id": "FpILNNNh1ikA",
        "outputId": "f70819dd-50ec-4050-d31f-edcb993a5a47"
      },
      "source": [
        "#World mean taking into considertaion Male, Female only\n",
        "new_world.groupby([\"TimePeriod\", \"GeoAreaName\"]).mean()['Value'].plot(kind='bar', figsize=(16,4))"
      ],
      "execution_count": 26,
      "outputs": [
        {
          "output_type": "execute_result",
          "data": {
            "text/plain": [
              "<matplotlib.axes._subplots.AxesSubplot at 0x7fb330aaad10>"
            ]
          },
          "metadata": {
            "tags": []
          },
          "execution_count": 26
        },
        {
          "output_type": "display_data",
          "data": {
            "image/png": "[encoded data removed]",
            "text/plain": [
              "<Figure size 1152x288 with 1 Axes>"
            ]
          },
          "metadata": {
            "tags": [],
            "needs_background": "light"
          }
        }
      ]
    },
    {
      "cell_type": "code",
      "metadata": {
        "colab": {
          "base_uri": "https://localhost:8080/",
          "height": 355
        },
        "id": "TLl1aIR71o9S",
        "outputId": "51b540ee-382c-479d-b8ac-6b6d344853ec"
      },
      "source": [
        "#World mean taking into considertaion Male, Female, Bothsex\n",
        "world_df.groupby([\"TimePeriod\", \"GeoAreaName\"]).mean()['Value'].plot(kind='bar', figsize=(16,4))"
      ],
      "execution_count": 27,
      "outputs": [
        {
          "output_type": "execute_result",
          "data": {
            "text/plain": [
              "<matplotlib.axes._subplots.AxesSubplot at 0x7fb32f0d8ad0>"
            ]
          },
          "metadata": {
            "tags": []
          },
          "execution_count": 27
        },
        {
          "output_type": "display_data",
          "data": {
            "image/png": "[encoded data removed]",
            "text/plain": [
              "<Figure size 1152x288 with 1 Axes>"
            ]
          },
          "metadata": {
            "tags": [],
            "needs_background": "light"
          }
        }
      ]
    },
    {
      "cell_type": "code",
      "metadata": {
        "colab": {
          "base_uri": "https://localhost:8080/",
          "height": 369
        },
        "id": "XWft_8yG1uqz",
        "outputId": "65d25bcf-f059-43ab-98c3-2cd33ea378be"
      },
      "source": [
        "#10 countries mean taking into considertaion Male, Female, Bothsex\n",
        "rslt_df.groupby([\"TimePeriod\", \"GeoAreaName\"]).mean()['Value'].plot(kind='bar', figsize=(16,4))"
      ],
      "execution_count": 28,
      "outputs": [
        {
          "output_type": "execute_result",
          "data": {
            "text/plain": [
              "<matplotlib.axes._subplots.AxesSubplot at 0x7fb32eff5750>"
            ]
          },
          "metadata": {
            "tags": []
          },
          "execution_count": 28
        },
        {
          "output_type": "display_data",
          "data": {
            "image/png": "[encoded data removed]",
            "text/plain": [
              "<Figure size 1152x288 with 1 Axes>"
            ]
          },
          "metadata": {
            "tags": [],
            "needs_background": "light"
          }
        }
      ]
    },
    {
      "cell_type": "code",
      "metadata": {
        "colab": {
          "base_uri": "https://localhost:8080/",
          "height": 388
        },
        "id": "whAh1RwlJaMU",
        "outputId": "50ac602a-c4b2-4ba0-e36f-ef4e160071d3"
      },
      "source": [
        "#Female mean (world) plot\n",
        "fig, ax = plt.subplots(figsize=(10, 6))\n",
        "ax.scatter(world_female_mean_1['TimePeriod'], world_female_mean_1['mean_values'])\n",
        "plt.xlabel('TimePeriod')\n",
        "plt.ylabel('mean_values')\n",
        "plt.savefig('scatter1.png')\n",
        "plt.show()"
      ],
      "execution_count": 37,
      "outputs": [
        {
          "output_type": "display_data",
          "data": {
            "image/png": "[encoded data removed]",
            "text/plain": [
              "<Figure size 720x432 with 1 Axes>"
            ]
          },
          "metadata": {
            "tags": [],
            "needs_background": "light"
          }
        }
      ]
    },
    {
      "cell_type": "code",
      "metadata": {
        "colab": {
          "base_uri": "https://localhost:8080/",
          "height": 334
        },
        "id": "554yiMDWJv2O",
        "outputId": "cc079ffd-5453-46d5-83ed-a19e922dea71"
      },
      "source": [
        "# LR to predict the future values \n",
        "from sklearn.linear_model import LinearRegression\n",
        "\n",
        "X_WF = pd.DataFrame(world_female_mean_1['TimePeriod'])\n",
        "Y_WF = pd.DataFrame(world_female_mean_1['mean_values'])\n",
        "\n",
        "# #fit the points in the model\n",
        "model = LinearRegression().fit(X_WF, Y_WF)\n",
        "\n",
        "print('Intercept:', model.intercept_) #intercept\n",
        "print('Slope:', model.coef_) # slope -m\n",
        "\n",
        "# #plot the original points\n",
        "plt.scatter(X_WF, Y_WF, color ='m')\n",
        "# #plot the values estimated by model\n",
        "plt.plot(X_WF, model.predict(X_WF), color='y')\n",
        "plt.xlabel('Year')\n",
        "plt.ylabel('Values')"
      ],
      "execution_count": 38,
      "outputs": [
        {
          "output_type": "stream",
          "text": [
            "Intercept: [6139.25320563]\n",
            "Slope: [[-3.03008207]]\n"
          ],
          "name": "stdout"
        },
        {
          "output_type": "execute_result",
          "data": {
            "text/plain": [
              "Text(0, 0.5, 'Values')"
            ]
          },
          "metadata": {
            "tags": []
          },
          "execution_count": 38
        },
        {
          "output_type": "display_data",
          "data": {
            "image/png": "[encoded data removed]",
            "text/plain": [
              "<Figure size 432x288 with 1 Axes>"
            ]
          },
          "metadata": {
            "tags": [],
            "needs_background": "light"
          }
        }
      ]
    },
    {
      "cell_type": "code",
      "metadata": {
        "colab": {
          "base_uri": "https://localhost:8080/",
          "height": 388
        },
        "id": "42uKhd_CJ0kz",
        "outputId": "263cb25e-d89b-4017-db5a-fa7ba3a376f0"
      },
      "source": [
        "#Male mean (world) plot\n",
        "fig, ax = plt.subplots(figsize=(10, 6))\n",
        "ax.scatter(world_male_mean_1['TimePeriod'], world_male_mean_1['mean_values'])\n",
        "plt.xlabel('TimePeriod')\n",
        "plt.ylabel('mean_values')\n",
        "plt.savefig('scatter2.png')\n",
        "plt.show()"
      ],
      "execution_count": 39,
      "outputs": [
        {
          "output_type": "display_data",
          "data": {
            "image/png": "[encoded data removed]",
            "text/plain": [
              "<Figure size 720x432 with 1 Axes>"
            ]
          },
          "metadata": {
            "tags": [],
            "needs_background": "light"
          }
        }
      ]
    },
    {
      "cell_type": "code",
      "metadata": {
        "colab": {
          "base_uri": "https://localhost:8080/",
          "height": 334
        },
        "id": "5coJhv81KDFV",
        "outputId": "9b11acf0-7033-4c4f-f77b-5c38ffd6168e"
      },
      "source": [
        "X_WM = pd.DataFrame(world_male_mean_1['TimePeriod'])\n",
        "Y_WM = pd.DataFrame(world_male_mean_1['mean_values'])\n",
        "\n",
        "# #fit the points in the model\n",
        "model = LinearRegression().fit(X_WM, Y_WM)\n",
        "\n",
        "print('Intercept:', model.intercept_) #intercept\n",
        "print('Slope:', model.coef_) # slope -m\n",
        "\n",
        "# #plot the original points\n",
        "plt.scatter(X_WM, Y_WM, color ='m')\n",
        "# #plot the values estimated by model\n",
        "plt.plot(X_WM, model.predict(X_WM), color='y')\n",
        "plt.xlabel('Year')\n",
        "plt.ylabel('Values')"
      ],
      "execution_count": 40,
      "outputs": [
        {
          "output_type": "stream",
          "text": [
            "Intercept: [6964.56003652]\n",
            "Slope: [[-3.43674559]]\n"
          ],
          "name": "stdout"
        },
        {
          "output_type": "execute_result",
          "data": {
            "text/plain": [
              "Text(0, 0.5, 'Values')"
            ]
          },
          "metadata": {
            "tags": []
          },
          "execution_count": 40
        },
        {
          "output_type": "display_data",
          "data": {
            "image/png": "[encoded data removed]",
            "text/plain": [
              "<Figure size 432x288 with 1 Axes>"
            ]
          },
          "metadata": {
            "tags": [],
            "needs_background": "light"
          }
        }
      ]
    },
    {
      "cell_type": "code",
      "metadata": {
        "colab": {
          "base_uri": "https://localhost:8080/",
          "height": 388
        },
        "id": "V3wT0E5EKIZJ",
        "outputId": "79de9222-ca78-4ce1-c40b-f890050a0bf9"
      },
      "source": [
        "#Female mean for selected 10 countries plot\n",
        "fig, ax = plt.subplots(figsize=(10, 6))\n",
        "ax.scatter(female_mean_selected['TimePeriod'], female_mean_selected['mean_values'])\n",
        "plt.xlabel('TimePeriod')\n",
        "plt.ylabel('mean_values')\n",
        "plt.savefig('scatter3.png')\n",
        "plt.show()"
      ],
      "execution_count": 41,
      "outputs": [
        {
          "output_type": "display_data",
          "data": {
            "image/png": "[encoded data removed]",
            "text/plain": [
              "<Figure size 720x432 with 1 Axes>"
            ]
          },
          "metadata": {
            "tags": [],
            "needs_background": "light"
          }
        }
      ]
    },
    {
      "cell_type": "code",
      "metadata": {
        "colab": {
          "base_uri": "https://localhost:8080/",
          "height": 334
        },
        "id": "zonSEF6YKXKx",
        "outputId": "103d1a05-157b-46bd-c08d-5d65abb878e4"
      },
      "source": [
        "X_WM = pd.DataFrame(female_mean_selected['TimePeriod'])\n",
        "Y_WM = pd.DataFrame(female_mean_selected['mean_values'])\n",
        "\n",
        "# #fit the points in the model\n",
        "model = LinearRegression().fit(X_WM, Y_WM)\n",
        "\n",
        "print('Intercept:', model.intercept_) #intercept\n",
        "print('Slope:', model.coef_) # slope -m\n",
        "\n",
        "# #plot the original points\n",
        "plt.scatter(X_WM, Y_WM, color ='m')\n",
        "# #plot the values estimated by model\n",
        "plt.plot(X_WM, model.predict(X_WM), color='y')\n",
        "plt.xlabel('Year')\n",
        "plt.ylabel('Values')"
      ],
      "execution_count": 42,
      "outputs": [
        {
          "output_type": "stream",
          "text": [
            "Intercept: [-3024.99547426]\n",
            "Slope: [[1.50939893]]\n"
          ],
          "name": "stdout"
        },
        {
          "output_type": "execute_result",
          "data": {
            "text/plain": [
              "Text(0, 0.5, 'Values')"
            ]
          },
          "metadata": {
            "tags": []
          },
          "execution_count": 42
        },
        {
          "output_type": "display_data",
          "data": {
            "image/png": "[encoded data removed]",
            "text/plain": [
              "<Figure size 432x288 with 1 Axes>"
            ]
          },
          "metadata": {
            "tags": [],
            "needs_background": "light"
          }
        }
      ]
    },
    {
      "cell_type": "code",
      "metadata": {
        "colab": {
          "base_uri": "https://localhost:8080/",
          "height": 388
        },
        "id": "DZyT01ScKdes",
        "outputId": "a8ce0d6f-defc-4840-b03d-34714727706c"
      },
      "source": [
        "#Male mean for selected 10 countries plot\n",
        "fig, ax = plt.subplots(figsize=(10, 6))\n",
        "ax.scatter(male_mean_selected['TimePeriod'], male_mean_selected['mean_values'])\n",
        "plt.xlabel('TimePeriod')\n",
        "plt.ylabel('mean_values')\n",
        "plt.savefig('scatter4.png')\n",
        "plt.show()"
      ],
      "execution_count": 43,
      "outputs": [
        {
          "output_type": "display_data",
          "data": {
            "image/png": "[encoded data removed]",
            "text/plain": [
              "<Figure size 720x432 with 1 Axes>"
            ]
          },
          "metadata": {
            "tags": [],
            "needs_background": "light"
          }
        }
      ]
    },
    {
      "cell_type": "code",
      "metadata": {
        "colab": {
          "base_uri": "https://localhost:8080/",
          "height": 334
        },
        "id": "xW3FOKIbKuoD",
        "outputId": "b8d31c6c-4423-4135-a937-34ad11fb04f1"
      },
      "source": [
        "X_WM = pd.DataFrame(male_mean_selected['TimePeriod'])\n",
        "Y_WM = pd.DataFrame(male_mean_selected['mean_values'])\n",
        "\n",
        "# #fit the points in the model\n",
        "model = LinearRegression().fit(X_WM, Y_WM)\n",
        "\n",
        "print('Intercept:', model.intercept_) #intercept\n",
        "print('Slope:', model.coef_) # slope -m\n",
        "\n",
        "# #plot the original points\n",
        "plt.scatter(X_WM, Y_WM, color ='m')\n",
        "# #plot the values estimated by model\n",
        "plt.plot(X_WM, model.predict(X_WM), color='y')\n",
        "plt.xlabel('Year')\n",
        "plt.ylabel('Values')"
      ],
      "execution_count": 44,
      "outputs": [
        {
          "output_type": "stream",
          "text": [
            "Intercept: [-8043.93961804]\n",
            "Slope: [[4.00210531]]\n"
          ],
          "name": "stdout"
        },
        {
          "output_type": "execute_result",
          "data": {
            "text/plain": [
              "Text(0, 0.5, 'Values')"
            ]
          },
          "metadata": {
            "tags": []
          },
          "execution_count": 44
        },
        {
          "output_type": "display_data",
          "data": {
            "image/png": "[encoded data removed]",
            "text/plain": [
              "<Figure size 432x288 with 1 Axes>"
            ]
          },
          "metadata": {
            "tags": [],
            "needs_background": "light"
          }
        }
      ]
    }
  ]
}