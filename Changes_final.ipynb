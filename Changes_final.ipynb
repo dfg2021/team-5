{
  "nbformat": 4,
  "nbformat_minor": 0,
  "metadata": {
    "colab": {
      "name": "Changes_final.ipynb",
      "provenance": [],
      "collapsed_sections": []
    },
    "kernelspec": {
      "name": "python3",
      "display_name": "Python 3"
    },
    "language_info": {
      "name": "python"
    }
  },
  "cells": [
    {
      "cell_type": "code",
      "metadata": {
        "id": "HmUaQiX1oZtB"
      },
      "source": [
        "import pandas as pd\n",
        "import matplotlib.pyplot as plt\n",
        "%matplotlib inline"
      ],
      "execution_count": null,
      "outputs": []
    },
    {
      "cell_type": "code",
      "metadata": {
        "colab": {
          "base_uri": "https://localhost:8080/"
        },
        "id": "Kk8TSTWBl9Uk",
        "outputId": "2b36196f-d96f-43b0-a7c6-4cd55a9f7637"
      },
      "source": [
        "Goal4 = pd.read_csv('Goal4.csv')"
      ],
      "execution_count": null,
      "outputs": [
        {
          "output_type": "stream",
          "text": [
            "/usr/local/lib/python3.7/dist-packages/IPython/core/interactiveshell.py:2718: DtypeWarning: Columns (1,9,16,17,19,21,23,24) have mixed types.Specify dtype option on import or set low_memory=False.\n",
            "  interactivity=interactivity, compiler=compiler, result=result)\n"
          ],
          "name": "stderr"
        }
      ]
    },
    {
      "cell_type": "code",
      "metadata": {
        "colab": {
          "base_uri": "https://localhost:8080/",
          "height": 419
        },
        "id": "9wqlAcz4ocmk",
        "outputId": "63d81d67-5a88-4a8a-81b4-e7956a8a436e"
      },
      "source": [
        "df = pd.DataFrame(Goal4)\n",
        "df = df[[\"Goal\",\"Target\",\"Indicator\",\"SeriesDescription\",\"GeoAreaName\",\"TimePeriod\",\"Value\",\"Sex\",\"Education level\",\"Type of skill\"]]\n",
        "df[df['Indicator'] == '4.1.1']"
      ],
      "execution_count": null,
      "outputs": [
        {
          "output_type": "execute_result",
          "data": {
            "text/html": [
              "<div>\n",
              "<style scoped>\n",
              "    .dataframe tbody tr th:only-of-type {\n",
              "        vertical-align: middle;\n",
              "    }\n",
              "\n",
              "    .dataframe tbody tr th {\n",
              "        vertical-align: top;\n",
              "    }\n",
              "\n",
              "    .dataframe thead th {\n",
              "        text-align: right;\n",
              "    }\n",
              "</style>\n",
              "<table border=\"1\" class=\"dataframe\">\n",
              "  <thead>\n",
              "    <tr style=\"text-align: right;\">\n",
              "      <th></th>\n",
              "      <th>Goal</th>\n",
              "      <th>Target</th>\n",
              "      <th>Indicator</th>\n",
              "      <th>SeriesDescription</th>\n",
              "      <th>GeoAreaName</th>\n",
              "      <th>TimePeriod</th>\n",
              "      <th>Value</th>\n",
              "      <th>Sex</th>\n",
              "      <th>Education level</th>\n",
              "      <th>Type of skill</th>\n",
              "    </tr>\n",
              "  </thead>\n",
              "  <tbody>\n",
              "    <tr>\n",
              "      <th>0</th>\n",
              "      <td>4</td>\n",
              "      <td>4.1</td>\n",
              "      <td>4.1.1</td>\n",
              "      <td>Proportion of children and young people achiev...</td>\n",
              "      <td>Afghanistan</td>\n",
              "      <td>2013</td>\n",
              "      <td>11.000000</td>\n",
              "      <td>BOTHSEX</td>\n",
              "      <td>PRIMAR</td>\n",
              "      <td>SKILL_MATH</td>\n",
              "    </tr>\n",
              "    <tr>\n",
              "      <th>1</th>\n",
              "      <td>4</td>\n",
              "      <td>4.1</td>\n",
              "      <td>4.1.1</td>\n",
              "      <td>Proportion of children and young people achiev...</td>\n",
              "      <td>Afghanistan</td>\n",
              "      <td>2013</td>\n",
              "      <td>13.000000</td>\n",
              "      <td>BOTHSEX</td>\n",
              "      <td>PRIMAR</td>\n",
              "      <td>SKILL_READ</td>\n",
              "    </tr>\n",
              "    <tr>\n",
              "      <th>2</th>\n",
              "      <td>4</td>\n",
              "      <td>4.1</td>\n",
              "      <td>4.1.1</td>\n",
              "      <td>Proportion of children and young people achiev...</td>\n",
              "      <td>Afghanistan</td>\n",
              "      <td>2016</td>\n",
              "      <td>21.500000</td>\n",
              "      <td>MALE</td>\n",
              "      <td>GRAD23</td>\n",
              "      <td>SKILL_READ</td>\n",
              "    </tr>\n",
              "    <tr>\n",
              "      <th>3</th>\n",
              "      <td>4</td>\n",
              "      <td>4.1</td>\n",
              "      <td>4.1.1</td>\n",
              "      <td>Proportion of children and young people achiev...</td>\n",
              "      <td>Afghanistan</td>\n",
              "      <td>2016</td>\n",
              "      <td>22.500000</td>\n",
              "      <td>FEMALE</td>\n",
              "      <td>GRAD23</td>\n",
              "      <td>SKILL_READ</td>\n",
              "    </tr>\n",
              "    <tr>\n",
              "      <th>4</th>\n",
              "      <td>4</td>\n",
              "      <td>4.1</td>\n",
              "      <td>4.1.1</td>\n",
              "      <td>Proportion of children and young people achiev...</td>\n",
              "      <td>Afghanistan</td>\n",
              "      <td>2016</td>\n",
              "      <td>22.000000</td>\n",
              "      <td>BOTHSEX</td>\n",
              "      <td>GRAD23</td>\n",
              "      <td>SKILL_READ</td>\n",
              "    </tr>\n",
              "    <tr>\n",
              "      <th>...</th>\n",
              "      <td>...</td>\n",
              "      <td>...</td>\n",
              "      <td>...</td>\n",
              "      <td>...</td>\n",
              "      <td>...</td>\n",
              "      <td>...</td>\n",
              "      <td>...</td>\n",
              "      <td>...</td>\n",
              "      <td>...</td>\n",
              "      <td>...</td>\n",
              "    </tr>\n",
              "    <tr>\n",
              "      <th>3984</th>\n",
              "      <td>4</td>\n",
              "      <td>4.1</td>\n",
              "      <td>4.1.1</td>\n",
              "      <td>Proportion of children and young people achiev...</td>\n",
              "      <td>Zambia</td>\n",
              "      <td>2015</td>\n",
              "      <td>5.043495</td>\n",
              "      <td>BOTHSEX</td>\n",
              "      <td>LOWSEC</td>\n",
              "      <td>SKILL_READ</td>\n",
              "    </tr>\n",
              "    <tr>\n",
              "      <th>3985</th>\n",
              "      <td>4</td>\n",
              "      <td>4.1</td>\n",
              "      <td>4.1.1</td>\n",
              "      <td>Proportion of children and young people achiev...</td>\n",
              "      <td>Zambia</td>\n",
              "      <td>2015</td>\n",
              "      <td>1.942508</td>\n",
              "      <td>MALE</td>\n",
              "      <td>LOWSEC</td>\n",
              "      <td>SKILL_MATH</td>\n",
              "    </tr>\n",
              "    <tr>\n",
              "      <th>3986</th>\n",
              "      <td>4</td>\n",
              "      <td>4.1</td>\n",
              "      <td>4.1.1</td>\n",
              "      <td>Proportion of children and young people achiev...</td>\n",
              "      <td>Zambia</td>\n",
              "      <td>2015</td>\n",
              "      <td>2.634564</td>\n",
              "      <td>FEMALE</td>\n",
              "      <td>LOWSEC</td>\n",
              "      <td>SKILL_MATH</td>\n",
              "    </tr>\n",
              "    <tr>\n",
              "      <th>3987</th>\n",
              "      <td>4</td>\n",
              "      <td>4.1</td>\n",
              "      <td>4.1.1</td>\n",
              "      <td>Proportion of children and young people achiev...</td>\n",
              "      <td>Zambia</td>\n",
              "      <td>2015</td>\n",
              "      <td>2.298457</td>\n",
              "      <td>BOTHSEX</td>\n",
              "      <td>LOWSEC</td>\n",
              "      <td>SKILL_MATH</td>\n",
              "    </tr>\n",
              "    <tr>\n",
              "      <th>3988</th>\n",
              "      <td>4</td>\n",
              "      <td>4.1</td>\n",
              "      <td>4.1.1</td>\n",
              "      <td>Proportion of children and young people achiev...</td>\n",
              "      <td>Zambia</td>\n",
              "      <td>2015</td>\n",
              "      <td>3.521387</td>\n",
              "      <td>MALE</td>\n",
              "      <td>LOWSEC</td>\n",
              "      <td>SKILL_READ</td>\n",
              "    </tr>\n",
              "  </tbody>\n",
              "</table>\n",
              "<p>3989 rows × 10 columns</p>\n",
              "</div>"
            ],
            "text/plain": [
              "      Goal Target Indicator  ...      Sex Education level  Type of skill\n",
              "0        4    4.1     4.1.1  ...  BOTHSEX          PRIMAR     SKILL_MATH\n",
              "1        4    4.1     4.1.1  ...  BOTHSEX          PRIMAR     SKILL_READ\n",
              "2        4    4.1     4.1.1  ...     MALE          GRAD23     SKILL_READ\n",
              "3        4    4.1     4.1.1  ...   FEMALE          GRAD23     SKILL_READ\n",
              "4        4    4.1     4.1.1  ...  BOTHSEX          GRAD23     SKILL_READ\n",
              "...    ...    ...       ...  ...      ...             ...            ...\n",
              "3984     4    4.1     4.1.1  ...  BOTHSEX          LOWSEC     SKILL_READ\n",
              "3985     4    4.1     4.1.1  ...     MALE          LOWSEC     SKILL_MATH\n",
              "3986     4    4.1     4.1.1  ...   FEMALE          LOWSEC     SKILL_MATH\n",
              "3987     4    4.1     4.1.1  ...  BOTHSEX          LOWSEC     SKILL_MATH\n",
              "3988     4    4.1     4.1.1  ...     MALE          LOWSEC     SKILL_READ\n",
              "\n",
              "[3989 rows x 10 columns]"
            ]
          },
          "metadata": {
            "tags": []
          },
          "execution_count": 6
        }
      ]
    },
    {
      "cell_type": "code",
      "metadata": {
        "colab": {
          "base_uri": "https://localhost:8080/"
        },
        "id": "fZXUQvuloepd",
        "outputId": "29d6e407-6a82-42e9-d6b3-973807e03947"
      },
      "source": [
        "df.value_counts(df['SeriesDescription'])"
      ],
      "execution_count": null,
      "outputs": [
        {
          "output_type": "execute_result",
          "data": {
            "text/plain": [
              "SeriesDescription\n",
              "Completion rate, by sex, location, wealth quintile and education level (%)                                                                                                                                                                       76351\n",
              "Adjusted gender parity index for completion rate, by sex, location, wealth quintile and education level                                                                                                                                          24268\n",
              "Adjusted location parity index for completion rate, by sex, location, wealth quintile and education level                                                                                                                                        23524\n",
              "Proportion of teachers who have received at least the minimum organized teacher training (e.g. pedagogical training) pre-service or in-service required for teaching at the relevant level in a given country, by sex and education level (%)    13535\n",
              "Adjusted wealth parity index for completion rate, by sex, location, wealth quintile and education level                                                                                                                                          12232\n",
              "Proportion of youth and adults with information and communications technology (ICT) skills, by sex and type of skill (%)                                                                                                                          5929\n",
              "Participation rate in organized learning (one year before the official primary entry age), by sex (%)                                                                                                                                             5883\n",
              "Gender parity index of trained teachers, by education level (ratio)                                                                                                                                                                               4046\n",
              "Proportion of children and young people achieving a minimum proficiency level in reading and mathematics (%)                                                                                                                                      3989\n",
              "Total official flows for scholarships, by recipient countries (millions of constant 2018 United States dollars)                                                                                                                                   2276\n",
              "Schools with access to electricity, by education level (%)                                                                                                                                                                                        2163\n",
              "Schools with access to basic drinking water, by education level (%)                                                                                                                                                                               1742\n",
              "Schools with basic handwashing facilities, by education level (%)                                                                                                                                                                                 1668\n",
              "Gender parity index for participation rate in organized learning (one year before the official primary entry age), (ratio)                                                                                                                        1663\n",
              "Schools with access to access to single-sex basic sanitation, by education level (%)                                                                                                                                                              1611\n",
              "Schools with access to computers for pedagogical purposes, by education level (%)                                                                                                                                                                 1557\n",
              "Schools with access to the internet for pedagogical purposes, by education level (%)                                                                                                                                                              1470\n",
              "Gender parity index for achievement (ratio)                                                                                                                                                                                                       1370\n",
              "Low to high socio-economic parity status index for achievement (ratio)                                                                                                                                                                            1193\n",
              "Language test parity index for achievement (ratio)                                                                                                                                                                                                1035\n",
              "Participation rate in formal and non-formal education and training, by sex (%)                                                                                                                                                                    1009\n",
              "Rural to urban parity index for achievement (ratio)                                                                                                                                                                                                930\n",
              "Native parity index for achievement (ratio)                                                                                                                                                                                                        864\n",
              "Proportion of schools with access to adapted infrastructure and materials for students with disabilities, by education level (%)                                                                                                                   335\n",
              "Gender parity index for participation rate in formal and non-formal education and training (ratio)                                                                                                                                                 321\n",
              "Gender parity index for youth/adults with information and communications technology (ICT) skills, by type of skill (ratio)                                                                                                                         261\n",
              "Proportion of children aged 36−59 months who are developmentally on track in at least three of the following domains: literacy-numeracy, physical development, social-emotional development, and learning (% of children aged 36-59 months)        244\n",
              "Proportion of population achieving at least a fixed level of proficiency in functional skills, by sex, age and type of skill (%)                                                                                                                   237\n",
              "Immigration status parity index for achieving at least a fixed level of proficiency in functional skills, by numeracy/literacy skills (ratio)                                                                                                       56\n",
              "dtype: int64"
            ]
          },
          "metadata": {
            "tags": []
          },
          "execution_count": 7
        }
      ]
    },
    {
      "cell_type": "code",
      "metadata": {
        "id": "KdpooX7Qpb6W"
      },
      "source": [
        "Proportion of teachers who have received at least the minimum organized teacher training (e.g. pedagogical training) pre-service or in-se\n",
        "Proportion of youth and adults with information and communications technology (ICT) skills, by sex and type of skill (%)              \n",
        "Proportion of children aged 36−59 months who are developmentally on track in at least three of the following domains: literacy-numeracy, physical development, social-emotional development, and learning (% of children aged 36-59 months)        244         \n"
      ],
      "execution_count": null,
      "outputs": []
    },
    {
      "cell_type": "code",
      "metadata": {
        "id": "DCHzutLl4M9G"
      },
      "source": [
        "ind1 = df[df['SeriesDescription']=='Proportion of teachers who have received at least the minimum organized teacher training (e.g. pedagogical training) pre-service or in-service required for teaching at the relevant level in a given country, by sex and education level (%)']"
      ],
      "execution_count": null,
      "outputs": []
    },
    {
      "cell_type": "code",
      "metadata": {
        "colab": {
          "base_uri": "https://localhost:8080/",
          "height": 419
        },
        "id": "-VTPXzND4wsJ",
        "outputId": "9ac910a9-221a-4821-877b-a0058d3f1d5f"
      },
      "source": [
        "ind1[['GeoAreaName','TimePeriod', 'Value']].set_index('GeoAreaName', inplace=True)\n",
        "ind1"
      ],
      "execution_count": null,
      "outputs": [
        {
          "output_type": "execute_result",
          "data": {
            "text/html": [
              "<div>\n",
              "<style scoped>\n",
              "    .dataframe tbody tr th:only-of-type {\n",
              "        vertical-align: middle;\n",
              "    }\n",
              "\n",
              "    .dataframe tbody tr th {\n",
              "        vertical-align: top;\n",
              "    }\n",
              "\n",
              "    .dataframe thead th {\n",
              "        text-align: right;\n",
              "    }\n",
              "</style>\n",
              "<table border=\"1\" class=\"dataframe\">\n",
              "  <thead>\n",
              "    <tr style=\"text-align: right;\">\n",
              "      <th></th>\n",
              "      <th>Goal</th>\n",
              "      <th>Target</th>\n",
              "      <th>Indicator</th>\n",
              "      <th>SeriesDescription</th>\n",
              "      <th>GeoAreaName</th>\n",
              "      <th>TimePeriod</th>\n",
              "      <th>Value</th>\n",
              "      <th>Sex</th>\n",
              "      <th>Education level</th>\n",
              "      <th>Type of skill</th>\n",
              "    </tr>\n",
              "  </thead>\n",
              "  <tbody>\n",
              "    <tr>\n",
              "      <th>178227</th>\n",
              "      <td>4</td>\n",
              "      <td>4.c</td>\n",
              "      <td>4.c.1</td>\n",
              "      <td>Proportion of teachers who have received at le...</td>\n",
              "      <td>World</td>\n",
              "      <td>2013</td>\n",
              "      <td>82.56397</td>\n",
              "      <td>MALE</td>\n",
              "      <td>PRIMAR</td>\n",
              "      <td>NaN</td>\n",
              "    </tr>\n",
              "    <tr>\n",
              "      <th>178228</th>\n",
              "      <td>4</td>\n",
              "      <td>4.c</td>\n",
              "      <td>4.c.1</td>\n",
              "      <td>Proportion of teachers who have received at le...</td>\n",
              "      <td>World</td>\n",
              "      <td>2013</td>\n",
              "      <td>88.13033</td>\n",
              "      <td>FEMALE</td>\n",
              "      <td>PRIMAR</td>\n",
              "      <td>NaN</td>\n",
              "    </tr>\n",
              "    <tr>\n",
              "      <th>178229</th>\n",
              "      <td>4</td>\n",
              "      <td>4.c</td>\n",
              "      <td>4.c.1</td>\n",
              "      <td>Proportion of teachers who have received at le...</td>\n",
              "      <td>World</td>\n",
              "      <td>2013</td>\n",
              "      <td>86.09550</td>\n",
              "      <td>BOTHSEX</td>\n",
              "      <td>PRIMAR</td>\n",
              "      <td>NaN</td>\n",
              "    </tr>\n",
              "    <tr>\n",
              "      <th>178230</th>\n",
              "      <td>4</td>\n",
              "      <td>4.c</td>\n",
              "      <td>4.c.1</td>\n",
              "      <td>Proportion of teachers who have received at le...</td>\n",
              "      <td>World</td>\n",
              "      <td>2014</td>\n",
              "      <td>85.87307</td>\n",
              "      <td>BOTHSEX</td>\n",
              "      <td>PRIMAR</td>\n",
              "      <td>NaN</td>\n",
              "    </tr>\n",
              "    <tr>\n",
              "      <th>178231</th>\n",
              "      <td>4</td>\n",
              "      <td>4.c</td>\n",
              "      <td>4.c.1</td>\n",
              "      <td>Proportion of teachers who have received at le...</td>\n",
              "      <td>World</td>\n",
              "      <td>2014</td>\n",
              "      <td>87.67571</td>\n",
              "      <td>FEMALE</td>\n",
              "      <td>PRIMAR</td>\n",
              "      <td>NaN</td>\n",
              "    </tr>\n",
              "    <tr>\n",
              "      <th>...</th>\n",
              "      <td>...</td>\n",
              "      <td>...</td>\n",
              "      <td>...</td>\n",
              "      <td>...</td>\n",
              "      <td>...</td>\n",
              "      <td>...</td>\n",
              "      <td>...</td>\n",
              "      <td>...</td>\n",
              "      <td>...</td>\n",
              "      <td>...</td>\n",
              "    </tr>\n",
              "    <tr>\n",
              "      <th>191757</th>\n",
              "      <td>4</td>\n",
              "      <td>4.c</td>\n",
              "      <td>4.c.1</td>\n",
              "      <td>Proportion of teachers who have received at le...</td>\n",
              "      <td>Zambia</td>\n",
              "      <td>2012</td>\n",
              "      <td>95.54508</td>\n",
              "      <td>FEMALE</td>\n",
              "      <td>LOWSEC</td>\n",
              "      <td>NaN</td>\n",
              "    </tr>\n",
              "    <tr>\n",
              "      <th>191758</th>\n",
              "      <td>4</td>\n",
              "      <td>4.c</td>\n",
              "      <td>4.c.1</td>\n",
              "      <td>Proportion of teachers who have received at le...</td>\n",
              "      <td>Zambia</td>\n",
              "      <td>2012</td>\n",
              "      <td>89.71963</td>\n",
              "      <td>MALE</td>\n",
              "      <td>LOWSEC</td>\n",
              "      <td>NaN</td>\n",
              "    </tr>\n",
              "    <tr>\n",
              "      <th>191759</th>\n",
              "      <td>4</td>\n",
              "      <td>4.c</td>\n",
              "      <td>4.c.1</td>\n",
              "      <td>Proportion of teachers who have received at le...</td>\n",
              "      <td>Zambia</td>\n",
              "      <td>2017</td>\n",
              "      <td>100.00000</td>\n",
              "      <td>MALE</td>\n",
              "      <td>PRIMAR</td>\n",
              "      <td>NaN</td>\n",
              "    </tr>\n",
              "    <tr>\n",
              "      <th>191760</th>\n",
              "      <td>4</td>\n",
              "      <td>4.c</td>\n",
              "      <td>4.c.1</td>\n",
              "      <td>Proportion of teachers who have received at le...</td>\n",
              "      <td>Zambia</td>\n",
              "      <td>2017</td>\n",
              "      <td>98.75030</td>\n",
              "      <td>BOTHSEX</td>\n",
              "      <td>PRIMAR</td>\n",
              "      <td>NaN</td>\n",
              "    </tr>\n",
              "    <tr>\n",
              "      <th>191761</th>\n",
              "      <td>4</td>\n",
              "      <td>4.c</td>\n",
              "      <td>4.c.1</td>\n",
              "      <td>Proportion of teachers who have received at le...</td>\n",
              "      <td>Zambia</td>\n",
              "      <td>2017</td>\n",
              "      <td>97.52328</td>\n",
              "      <td>FEMALE</td>\n",
              "      <td>PRIMAR</td>\n",
              "      <td>NaN</td>\n",
              "    </tr>\n",
              "  </tbody>\n",
              "</table>\n",
              "<p>13535 rows × 10 columns</p>\n",
              "</div>"
            ],
            "text/plain": [
              "        Goal Target Indicator  ...      Sex Education level  Type of skill\n",
              "178227     4    4.c     4.c.1  ...     MALE          PRIMAR            NaN\n",
              "178228     4    4.c     4.c.1  ...   FEMALE          PRIMAR            NaN\n",
              "178229     4    4.c     4.c.1  ...  BOTHSEX          PRIMAR            NaN\n",
              "178230     4    4.c     4.c.1  ...  BOTHSEX          PRIMAR            NaN\n",
              "178231     4    4.c     4.c.1  ...   FEMALE          PRIMAR            NaN\n",
              "...      ...    ...       ...  ...      ...             ...            ...\n",
              "191757     4    4.c     4.c.1  ...   FEMALE          LOWSEC            NaN\n",
              "191758     4    4.c     4.c.1  ...     MALE          LOWSEC            NaN\n",
              "191759     4    4.c     4.c.1  ...     MALE          PRIMAR            NaN\n",
              "191760     4    4.c     4.c.1  ...  BOTHSEX          PRIMAR            NaN\n",
              "191761     4    4.c     4.c.1  ...   FEMALE          PRIMAR            NaN\n",
              "\n",
              "[13535 rows x 10 columns]"
            ]
          },
          "metadata": {
            "tags": []
          },
          "execution_count": 38
        }
      ]
    },
    {
      "cell_type": "code",
      "metadata": {
        "id": "4TGhh46j7ua4"
      },
      "source": [
        "countries = ['World','Afghanistan', 'Albania', 'Algeria', 'Angola', 'Antigua and Barbuda', 'Argentina', 'Armenia', 'Azerbaijan', 'Bangladesh', 'Belarus', 'Belize', 'Benin', 'Bhutan','Bolivia', 'Bosnia and Herzegovina', 'Botswana', 'Brazil', 'Bulgaria', 'Burkina Faso', 'Burundi', 'Cabo Verde', 'Cambodia', 'Cameroon', 'Central African Republic', 'Chad', 'Chile', 'China', 'Colombia', 'Comoros', 'Congo','Congo, Democratic Republic', 'Costa Rica', 'Croatia', \"Côte d'Ivoire\", 'Djibouti', 'Dominica', 'Dominican Republic', 'Ecuador', 'Egypt', 'El Salvador', 'Equatorial Guinea', 'Eritrea', 'Eswatini', 'Ethiopia', 'Fiji', 'Gabon', 'Gambia', 'Georgia', 'Ghana', 'Grenada', 'Guatemala', 'Guinea', 'Guinea-Bissau', 'Guyana', 'Haiti', 'Honduras', 'India', 'Indonesia', 'Iran (Islamic Republic of)', 'Iraq', 'Jamaica', 'Jordan', 'Kazakhstan', 'Kenya', 'Kiribati', 'Kosovo', 'Kyrgyzstan', \"Lao People's Democratic Republic\", 'Lebanon', 'Lesotho', 'Liberia', 'Libya', 'Madagascar', 'Malawi', 'Malaysia', 'Maldives', 'Mali', 'Marshall Islands', 'Mauritania', 'Mauritius', 'Mexico', 'Micronesia (Federated States of)','Moldova', 'Mongolia', 'Montenegro', 'Morocco', 'Mozambique', 'Myanmar', 'Namibia', 'Nauru', 'Nepal', 'Nicaragua', 'Niger', 'Nigeria', 'North Macedonia', 'Pakistan', 'Palau', 'Panama', 'Papua New Guinea', 'Paraguay', 'Peru', 'Philippines', 'Poland', 'Romania', 'Russian Federation', 'Rwanda', 'Saint Kitts and Nevis', 'Saint Lucia', 'Saint Vincent and the Grenadines', 'Samoa', 'Sao Tome and Principe', 'Senegal', 'Serbia', 'Seychelles', 'Sierra Leone', 'Solomon Islands', 'Somalia', 'South Africa', 'South Sudan', 'Sri Lanka', 'Sudan', 'Suriname', 'Syrian Arab Republic', 'Tajikistan', 'Thailand', 'Timor-Leste', 'Togo', 'Tonga', 'Trinidad and Tobago', 'Tunisia', 'Turkey', 'Turkmenistan', 'Tuvalu', 'Uganda', 'Ukraine', 'United Republic of Tanzania', 'Uruguay', 'Uzbekistan', 'Vanuatu','Venezuela', 'Vietnam', 'Yemen', 'Zambia', 'Zimbabwe']"
      ],
      "execution_count": null,
      "outputs": []
    },
    {
      "cell_type": "code",
      "metadata": {
        "id": "1CuBdyJ2bt7q"
      },
      "source": [
        "countries_final = ['Congo', 'Egypt', 'Pakistan', 'Iraq', 'Nigeria']"
      ],
      "execution_count": null,
      "outputs": []
    },
    {
      "cell_type": "code",
      "metadata": {
        "colab": {
          "base_uri": "https://localhost:8080/"
        },
        "id": "vng73SWcDIsM",
        "outputId": "0eb976bf-482b-40b7-e795-ba64b9745222"
      },
      "source": [
        "y_world = ind1[(ind1['GeoAreaName']=='World') & (ind1['Sex']=='MALE')]['Value']\n",
        "x_world = ind1[(ind1['GeoAreaName']=='World') & (ind1['Sex']=='MALE')]['TimePeriod']\n",
        "y_world\n",
        "# plt.scatter(x_world,y_world)\n",
        "# plt.savefig('1.png')\n",
        "# plt.show()"
      ],
      "execution_count": null,
      "outputs": [
        {
          "output_type": "execute_result",
          "data": {
            "text/plain": [
              "178227    82.56397\n",
              "178232    82.68186\n",
              "178234    81.41147\n",
              "178237    81.62077\n",
              "178240    81.68934\n",
              "178243    82.15749\n",
              "178247    81.13111\n",
              "Name: Value, dtype: float64"
            ]
          },
          "metadata": {
            "tags": []
          },
          "execution_count": 80
        }
      ]
    },
    {
      "cell_type": "code",
      "metadata": {
        "colab": {
          "base_uri": "https://localhost:8080/"
        },
        "id": "yEnXLQjVin9p",
        "outputId": "41c60f1a-e6a8-4ce4-c3b9-c13caafbf0ac"
      },
      "source": [
        "x_china = y_world = ind1[(ind1['GeoAreaName']=='Turkey') & (ind1['Sex']=='MALE')]['Value']\n",
        "x_china"
      ],
      "execution_count": null,
      "outputs": [
        {
          "output_type": "execute_result",
          "data": {
            "text/plain": [
              "Series([], Name: Value, dtype: float64)"
            ]
          },
          "metadata": {
            "tags": []
          },
          "execution_count": 91
        }
      ]
    },
    {
      "cell_type": "markdown",
      "metadata": {
        "id": "ZI3QOYdDkX1w"
      },
      "source": [
        "Mean of the world"
      ]
    },
    {
      "cell_type": "code",
      "metadata": {
        "id": "Ib3EBXqLhcYA"
      },
      "source": [
        "new_df = ind1.groupby([\"TimePeriod\", 'Sex']).mean()['Value']\n",
        "mean_yearwise = new_df.to_frame(name='mean_values').reset_index()\n",
        "mean_yearwise\n"
      ],
      "execution_count": null,
      "outputs": []
    },
    {
      "cell_type": "code",
      "metadata": {
        "id": "uq9rfCuTlCCu"
      },
      "source": [
        "world_female_mean = mean_yearwise[(mean_yearwise['Sex']=='FEMALE') & (mean_yearwise['TimePeriod']!=2019)]\n",
        "world_female_mean"
      ],
      "execution_count": null,
      "outputs": []
    },
    {
      "cell_type": "code",
      "metadata": {
        "colab": {
          "base_uri": "https://localhost:8080/",
          "height": 388
        },
        "id": "L-M2GHGcoqaI",
        "outputId": "f2808060-2af3-4858-e660-c3a600dd0afb"
      },
      "source": [
        "fig, ax = plt.subplots(figsize=(10, 6))\n",
        "ax.scatter(world_female_mean['TimePeriod'], world_female_mean['mean_values'])\n",
        "plt.xlabel('TimePeriod')\n",
        "plt.ylabel('mean_values')\n",
        "plt.savefig('1.png')\n",
        "plt.show()"
      ],
      "execution_count": null,
      "outputs": [
        {
          "output_type": "display_data",
          "data": {
            "image/png": "[encoded data removed]",
            "text/plain": [
              "<Figure size 720x432 with 1 Axes>"
            ]
          },
          "metadata": {
            "tags": [],
            "needs_background": "light"
          }
        }
      ]
    },
    {
      "cell_type": "markdown",
      "metadata": {
        "id": "LhBHUQVlsXAE"
      },
      "source": [
        "LR for the means\n"
      ]
    },
    {
      "cell_type": "code",
      "metadata": {
        "colab": {
          "base_uri": "https://localhost:8080/",
          "height": 330
        },
        "id": "L7gtIBcssZXV",
        "outputId": "d1d5b13d-2fdc-41d1-badb-b0058174c479"
      },
      "source": [
        "from sklearn.linear_model import LinearRegression\n",
        "\n",
        "X_WF = pd.DataFrame(world_female_mean['TimePeriod'])\n",
        "Y_WF = pd.DataFrame(world_female_mean['mean_values'])\n",
        "\n",
        "# #fit the points in the model\n",
        "model = LinearRegression().fit(X_WF, Y_WF)\n",
        "\n",
        "print('Intercept:', model.intercept_) #\n",
        "print('Slope:', model.coef_) # slope -m\n",
        "\n",
        "# #plot the original points\n",
        "plt.scatter(X_WF, Y_WF, color ='m')\n",
        "# #plot the values estimated by model\n",
        "plt.plot(X_WF, model.predict(X_WF), color='y')\n",
        "plt.xlabel('Time')\n",
        "plt.ylabel('Values')"
      ],
      "execution_count": null,
      "outputs": [
        {
          "output_type": "stream",
          "text": [
            "Intercept: [-855.32105665]\n",
            "Slope: [[0.46431763]]\n"
          ],
          "name": "stdout"
        },
        {
          "output_type": "execute_result",
          "data": {
            "text/plain": [
              "Text(0, 0.5, 'Values')"
            ]
          },
          "metadata": {
            "tags": []
          },
          "execution_count": 152
        },
        {
          "output_type": "display_data",
          "data": {
            "image/png": "[encoded data removed]",
            "text/plain": [
              "<Figure size 432x288 with 1 Axes>"
            ]
          },
          "metadata": {
            "tags": [],
            "needs_background": "light"
          }
        }
      ]
    },
    {
      "cell_type": "code",
      "metadata": {
        "id": "PqCr8PyEF3Kq"
      },
      "source": [
        "world_male_mean = mean_yearwise[(mean_yearwise['Sex']=='MALE') & (mean_yearwise['TimePeriod']!=2019)]\n",
        "world_male_mean"
      ],
      "execution_count": null,
      "outputs": []
    },
    {
      "cell_type": "code",
      "metadata": {
        "colab": {
          "base_uri": "https://localhost:8080/",
          "height": 388
        },
        "id": "uAYDAVxbvh7u",
        "outputId": "e517cd66-e53c-42de-a3d7-c097807363be"
      },
      "source": [
        "fig, ax = plt.subplots(figsize=(10, 6))\n",
        "ax.scatter(world_male_mean['TimePeriod'], world_male_mean['mean_values'])\n",
        "plt.xlabel('TimePeriod')\n",
        "plt.ylabel('mean_values')\n",
        "plt.savefig('2.png')\n",
        "plt.show()"
      ],
      "execution_count": null,
      "outputs": [
        {
          "output_type": "display_data",
          "data": {
            "image/png": "[encoded data removed]",
            "text/plain": [
              "<Figure size 720x432 with 1 Axes>"
            ]
          },
          "metadata": {
            "tags": [],
            "needs_background": "light"
          }
        }
      ]
    },
    {
      "cell_type": "code",
      "metadata": {
        "colab": {
          "base_uri": "https://localhost:8080/",
          "height": 330
        },
        "id": "wm_Bc_Utvo1n",
        "outputId": "d410bc6d-ff90-49d1-8566-8b7c3ac45a78"
      },
      "source": [
        "X_WM = pd.DataFrame(world_male_mean['TimePeriod'])\n",
        "Y_WM = pd.DataFrame(world_male_mean['mean_values'])\n",
        "\n",
        "# #fit the points in the model\n",
        "model = LinearRegression().fit(X_WM, Y_WM)\n",
        "\n",
        "print('Intercept:', model.intercept_) #\n",
        "print('Slope:', model.coef_) # slope -m\n",
        "\n",
        "# #plot the original points\n",
        "plt.scatter(X_WM, Y_WM, color ='m')\n",
        "# #plot the values estimated by model\n",
        "plt.plot(X_WM, model.predict(X_WM), color='y')\n",
        "plt.xlabel('Time')\n",
        "plt.ylabel('Values')"
      ],
      "execution_count": null,
      "outputs": [
        {
          "output_type": "stream",
          "text": [
            "Intercept: [-1546.31377317]\n",
            "Slope: [[0.80429699]]\n"
          ],
          "name": "stdout"
        },
        {
          "output_type": "execute_result",
          "data": {
            "text/plain": [
              "Text(0, 0.5, 'Values')"
            ]
          },
          "metadata": {
            "tags": []
          },
          "execution_count": 151
        },
        {
          "output_type": "display_data",
          "data": {
            "image/png": "[encoded data removed]",
            "text/plain": [
              "<Figure size 432x288 with 1 Axes>"
            ]
          },
          "metadata": {
            "tags": [],
            "needs_background": "light"
          }
        }
      ]
    }
  ]
}